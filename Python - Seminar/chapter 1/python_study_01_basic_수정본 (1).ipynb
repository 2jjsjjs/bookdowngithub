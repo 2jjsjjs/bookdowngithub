{
  "cells": [
    {
      "cell_type": "markdown",
      "metadata": {
        "id": "lS8TWPxnCs9v"
      },
      "source": [
        "# Python 소개 "
      ]
    },
    {
      "cell_type": "markdown",
      "metadata": {
        "id": "R4ZyTbUkCs9w"
      },
      "source": [
        "[Python](https://www.python.org/)은 범용 프로그래밍 언어로 1989 년에 처음으로 소개되었으며 오픈소스이며 무료이다. [Python Software Foundation을](https://www.python.org/psf/) 통해 계속 발전되었습니다.\n"
      ]
    },
    {
      "cell_type": "markdown",
      "metadata": {
        "id": "R1mnEP2nCs9w"
      },
      "source": [
        "## Python을 계산기로 사용하기"
      ]
    },
    {
      "cell_type": "markdown",
      "metadata": {
        "id": "8GPrYu3VCs9x"
      },
      "source": [
        "### 연산"
      ]
    },
    {
      "cell_type": "markdown",
      "metadata": {
        "id": "285QutulCs9x"
      },
      "source": [
        "Python을 이용한 통계 분석을 배우려면 R 언어, Julia 언어와 같이 Python을 고급 계산기처럼 사용하는 기능을 배우는 것이 좋다.\n",
        "\n",
        "다음과 같이 사칙연산이 가능하다."
      ]
    },
    {
      "cell_type": "code",
      "execution_count": null,
      "metadata": {
        "colab": {
          "base_uri": "https://localhost:8080/"
        },
        "id": "9t5hnHGECs9x",
        "outputId": "f013523b-c733-4114-899c-fab53e0dc9dc"
      },
      "outputs": [
        {
          "output_type": "execute_result",
          "data": {
            "text/plain": [
              "2.5"
            ]
          },
          "metadata": {},
          "execution_count": 11
        }
      ],
      "source": [
        "1+2\n",
        "100-50\n",
        "3*4\n",
        "5/2"
      ]
    },
    {
      "cell_type": "code",
      "execution_count": null,
      "metadata": {
        "colab": {
          "base_uri": "https://localhost:8080/"
        },
        "id": "fN1Ni_nbCs9y",
        "outputId": "f5b4f38c-f533-45b1-f337-289bfc16af9d"
      },
      "outputs": [
        {
          "output_type": "execute_result",
          "data": {
            "text/plain": [
              "20.25"
            ]
          },
          "metadata": {},
          "execution_count": 12
        }
      ],
      "source": [
        "4.5**2"
      ]
    },
    {
      "cell_type": "markdown",
      "metadata": {
        "id": "h6Ov7OusCs9y"
      },
      "source": [
        "특별한 연산자도 있다. 연산자 `//`는 몫(floor division)을, 연산자 `%`는 나머지(remainder)를 계산해준다.  연산자 `**`는 거듭제곱(involution)을 계산해준다."
      ]
    },
    {
      "cell_type": "code",
      "execution_count": null,
      "metadata": {
        "colab": {
          "base_uri": "https://localhost:8080/"
        },
        "id": "DO49hAN2Cs9y",
        "outputId": "6259f5b2-fd6d-4f7e-ac6c-d460046162bb"
      },
      "outputs": [
        {
          "output_type": "execute_result",
          "data": {
            "text/plain": [
              "6"
            ]
          },
          "metadata": {},
          "execution_count": 13
        }
      ],
      "source": [
        "13 // 2"
      ]
    },
    {
      "cell_type": "code",
      "execution_count": null,
      "metadata": {
        "colab": {
          "base_uri": "https://localhost:8080/"
        },
        "id": "lQaq13tWCs9y",
        "outputId": "ecd2db51-eb69-4615-fe46-a776a8b97a55"
      },
      "outputs": [
        {
          "output_type": "execute_result",
          "data": {
            "text/plain": [
              "1"
            ]
          },
          "metadata": {},
          "execution_count": 14
        }
      ],
      "source": [
        "13 % 2"
      ]
    },
    {
      "cell_type": "code",
      "source": [
        "2**4 "
      ],
      "metadata": {
        "colab": {
          "base_uri": "https://localhost:8080/"
        },
        "id": "CLEJsbPoD6yk",
        "outputId": "a0e17c1d-0fa8-4b21-8348-479e9ac29d6d"
      },
      "execution_count": null,
      "outputs": [
        {
          "output_type": "execute_result",
          "data": {
            "text/plain": [
              "16"
            ]
          },
          "metadata": {},
          "execution_count": 15
        }
      ]
    },
    {
      "cell_type": "markdown",
      "metadata": {
        "id": "YUuKZJULCs9z"
      },
      "source": [
        "기본적인 수학 함수를 이용할 수 있다.  이를 위하여 math module을  import 해야한다."
      ]
    },
    {
      "cell_type": "code",
      "execution_count": null,
      "metadata": {
        "colab": {
          "base_uri": "https://localhost:8080/"
        },
        "id": "4YLlUUZoCs9z",
        "outputId": "2aab7044-92fc-44fc-ac67-e1d8b8d87f30"
      },
      "outputs": [
        {
          "output_type": "execute_result",
          "data": {
            "text/plain": [
              "-2.4492935982947064e-16"
            ]
          },
          "metadata": {},
          "execution_count": 16
        }
      ],
      "source": [
        "import math\n",
        "a = math.sin(2*math.pi)\n",
        "a"
      ]
    },
    {
      "cell_type": "markdown",
      "source": [
        "math module의 constant로는 파이,자연상수,타우상수가 있다."
      ],
      "metadata": {
        "id": "CrSsG923EW-4"
      }
    },
    {
      "cell_type": "code",
      "source": [
        "math.pi"
      ],
      "metadata": {
        "colab": {
          "base_uri": "https://localhost:8080/"
        },
        "id": "vCDRzRbgEymG",
        "outputId": "3a8e8567-42b5-4d90-9b7c-ae9f939b294e"
      },
      "execution_count": null,
      "outputs": [
        {
          "output_type": "execute_result",
          "data": {
            "text/plain": [
              "3.141592653589793"
            ]
          },
          "metadata": {},
          "execution_count": 17
        }
      ]
    },
    {
      "cell_type": "code",
      "source": [
        "math.e "
      ],
      "metadata": {
        "colab": {
          "base_uri": "https://localhost:8080/"
        },
        "id": "84-YRbl_FYLV",
        "outputId": "6af3eaaa-5fb9-4f7c-919f-ecacc6967674"
      },
      "execution_count": null,
      "outputs": [
        {
          "output_type": "execute_result",
          "data": {
            "text/plain": [
              "2.718281828459045"
            ]
          },
          "metadata": {},
          "execution_count": 18
        }
      ]
    },
    {
      "cell_type": "code",
      "source": [
        "math.tau"
      ],
      "metadata": {
        "colab": {
          "base_uri": "https://localhost:8080/"
        },
        "id": "1bTiZt0gFckL",
        "outputId": "cd8807c4-629a-4420-b01b-e992164833d7"
      },
      "execution_count": null,
      "outputs": [
        {
          "output_type": "execute_result",
          "data": {
            "text/plain": [
              "6.283185307179586"
            ]
          },
          "metadata": {},
          "execution_count": 19
        }
      ]
    },
    {
      "cell_type": "markdown",
      "source": [
        " math module이 지원하는 method로는 대표적인 예로 제곱 연산 , 제곱근 연산 , 로그 연산 , 삼각함수 연산등이 있다."
      ],
      "metadata": {
        "id": "m_kLQAfRE7vN"
      }
    },
    {
      "cell_type": "code",
      "source": [
        "math.pow(3, 2)"
      ],
      "metadata": {
        "colab": {
          "base_uri": "https://localhost:8080/"
        },
        "id": "R_UozA4NFRRW",
        "outputId": "2be23a3f-47d0-4b03-94fe-5267daf32846"
      },
      "execution_count": null,
      "outputs": [
        {
          "output_type": "execute_result",
          "data": {
            "text/plain": [
              "9.0"
            ]
          },
          "metadata": {},
          "execution_count": 20
        }
      ]
    },
    {
      "cell_type": "code",
      "source": [
        "math.sqrt(25)"
      ],
      "metadata": {
        "colab": {
          "base_uri": "https://localhost:8080/"
        },
        "id": "b6cJf333Fft1",
        "outputId": "1e2fe2ed-a75d-43ae-d2c1-9c59498c571e"
      },
      "execution_count": null,
      "outputs": [
        {
          "output_type": "execute_result",
          "data": {
            "text/plain": [
              "5.0"
            ]
          },
          "metadata": {},
          "execution_count": 21
        }
      ]
    },
    {
      "cell_type": "code",
      "source": [
        "math.log(10, 10)"
      ],
      "metadata": {
        "colab": {
          "base_uri": "https://localhost:8080/"
        },
        "id": "nYZv_RcbFizo",
        "outputId": "ff0833e8-f42b-41a3-c906-f4e7de702328"
      },
      "execution_count": null,
      "outputs": [
        {
          "output_type": "execute_result",
          "data": {
            "text/plain": [
              "1.0"
            ]
          },
          "metadata": {},
          "execution_count": 22
        }
      ]
    },
    {
      "cell_type": "code",
      "source": [
        "x = 4\n",
        "math.sin(x)\n",
        "math.cos(x)\n",
        "math.tan(x)"
      ],
      "metadata": {
        "colab": {
          "base_uri": "https://localhost:8080/"
        },
        "id": "eeVGu6GrFsWl",
        "outputId": "458895cb-d18b-4d26-8566-bfbb4701cf76"
      },
      "execution_count": null,
      "outputs": [
        {
          "output_type": "execute_result",
          "data": {
            "text/plain": [
              "1.1578212823495775"
            ]
          },
          "metadata": {},
          "execution_count": 26
        }
      ]
    },
    {
      "cell_type": "markdown",
      "metadata": {
        "id": "GJoMGTdUCs9z"
      },
      "source": [
        "### 비교연산자와 논리연산자"
      ]
    },
    {
      "cell_type": "markdown",
      "source": [
        "비교연산자  \n",
        "  \n",
        "== : 값이 동일하다  \n",
        "!= : 값이 동일하지 않다   \n",
        "< : 왼쪽 값이 오른쪽 값보다 작다  \n",
        "<= : 왼쪽 값이 오른쪽 값보다 같거나 작다"
      ],
      "metadata": {
        "id": "S-iVK73uF_oo"
      }
    },
    {
      "cell_type": "code",
      "execution_count": null,
      "metadata": {
        "id": "IFGQm9mBCs9z",
        "outputId": "1ae3bc62-baf4-4068-eaed-037eedcf3848"
      },
      "outputs": [
        {
          "data": {
            "text/plain": [
              "False"
            ]
          },
          "execution_count": 6,
          "metadata": {},
          "output_type": "execute_result"
        }
      ],
      "source": [
        "1 > 2"
      ]
    },
    {
      "cell_type": "code",
      "execution_count": null,
      "metadata": {
        "id": "s9CuWCD5Cs9z",
        "outputId": "41c30ffa-4023-443a-9136-135ff8b51fb8"
      },
      "outputs": [
        {
          "data": {
            "text/plain": [
              "True"
            ]
          },
          "execution_count": 7,
          "metadata": {},
          "output_type": "execute_result"
        }
      ],
      "source": [
        "1 <= 3"
      ]
    },
    {
      "cell_type": "code",
      "execution_count": null,
      "metadata": {
        "id": "TxyQ5Jd5Cs9z",
        "outputId": "01577ffa-1d08-48f7-8716-ebe3f3d4a451"
      },
      "outputs": [
        {
          "data": {
            "text/plain": [
              "True"
            ]
          },
          "execution_count": 8,
          "metadata": {},
          "output_type": "execute_result"
        }
      ],
      "source": [
        "2 == 2.0"
      ]
    },
    {
      "cell_type": "code",
      "execution_count": null,
      "metadata": {
        "id": "mV0KcWvrCs90",
        "outputId": "f4841971-0cf7-41cb-c4bc-a38891ce6c47"
      },
      "outputs": [
        {
          "data": {
            "text/plain": [
              "False"
            ]
          },
          "execution_count": 9,
          "metadata": {},
          "output_type": "execute_result"
        }
      ],
      "source": [
        "3 != 3"
      ]
    },
    {
      "cell_type": "markdown",
      "metadata": {
        "id": "kDOBq_-ECs90"
      },
      "source": [
        "논리연산자는 `and`, `or`, `not`이 있다  \n",
        "and의 경우\t논리 AND 연산. 둘다 참일때만 참  \n",
        "or의 경우\t논리 OR 연산. 둘 중 하나만 참이여도 참  \n",
        "not의 경우  논리 NOT 연산. 논리 상태를 반전"
      ]
    },
    {
      "cell_type": "code",
      "execution_count": null,
      "metadata": {
        "id": "fFmN_L7WCs90",
        "outputId": "5a735d3d-3d58-488d-bf18-d3b788a7a740"
      },
      "outputs": [
        {
          "data": {
            "text/plain": [
              "True"
            ]
          },
          "execution_count": 10,
          "metadata": {},
          "output_type": "execute_result"
        }
      ],
      "source": [
        "1 < 3 and 2 >= 1"
      ]
    },
    {
      "cell_type": "code",
      "source": [
        "1 < 3 or 2 > 1"
      ],
      "metadata": {
        "colab": {
          "base_uri": "https://localhost:8080/"
        },
        "id": "plU_0udjHlib",
        "outputId": "904b07cd-064d-4982-954b-9558bcdccd4b"
      },
      "execution_count": null,
      "outputs": [
        {
          "output_type": "execute_result",
          "data": {
            "text/plain": [
              "True"
            ]
          },
          "metadata": {},
          "execution_count": 25
        }
      ]
    },
    {
      "cell_type": "code",
      "execution_count": null,
      "metadata": {
        "id": "1EsbTLuNCs90",
        "outputId": "1b95eafe-6168-45ae-b571-65686de2c0f3"
      },
      "outputs": [
        {
          "data": {
            "text/plain": [
              "False"
            ]
          },
          "execution_count": 11,
          "metadata": {},
          "output_type": "execute_result"
        }
      ],
      "source": [
        "not 3 == 3"
      ]
    },
    {
      "cell_type": "markdown",
      "metadata": {
        "id": "kRbQYJLMCs90"
      },
      "source": [
        "## 변수"
      ]
    },
    {
      "cell_type": "markdown",
      "metadata": {
        "id": "yIEHJlhKCs90"
      },
      "source": [
        "Python에서 다른 보통의 언어와 마찬가지로 변수(variable)을 연산자 `=`을 사용하여 선언할 수 있다.  \n",
        "여기서 파이썬에서 사용하는 변수란 객체를 가리키는 것이라고 말할 수 있다. (자료형과 같은 것)\n",
        "- 변수이름 = 변수에 저장할 값  \n",
        "- 변수명는 문자(A-Z/a-z)와  an underscore(_)으로 시작한다.\n",
        "- 변수명은 문자(A-Z/a-z), an underscore(_), 숫자의 조합으로 구성된다.\n",
        "- 변수명은 소문자와 대문자를 구별한다."
      ]
    },
    {
      "cell_type": "code",
      "execution_count": null,
      "metadata": {
        "id": "_ELQBBARCs91"
      },
      "outputs": [],
      "source": [
        "a = 100"
      ]
    },
    {
      "cell_type": "code",
      "execution_count": null,
      "metadata": {
        "id": "aNpNyawiCs91"
      },
      "outputs": [],
      "source": [
        "_name = '이용희'"
      ]
    },
    {
      "cell_type": "code",
      "execution_count": null,
      "metadata": {
        "id": "KCHNZpO9Cs91"
      },
      "outputs": [],
      "source": [
        "c, d = 100, 3.5"
      ]
    },
    {
      "cell_type": "code",
      "execution_count": null,
      "metadata": {
        "colab": {
          "base_uri": "https://localhost:8080/"
        },
        "id": "vPNKy509Cs91",
        "outputId": "7d3d40ea-2407-4ff8-93da-218225be7c8b"
      },
      "outputs": [
        {
          "output_type": "execute_result",
          "data": {
            "text/plain": [
              "103.5"
            ]
          },
          "metadata": {},
          "execution_count": 4
        }
      ],
      "source": [
        "c+d"
      ]
    },
    {
      "cell_type": "code",
      "execution_count": null,
      "metadata": {
        "id": "ygwrZTcdCs91"
      },
      "outputs": [],
      "source": [
        "i=j=10"
      ]
    },
    {
      "cell_type": "code",
      "execution_count": null,
      "metadata": {
        "id": "CPeZm3ReCs91",
        "outputId": "f4734dc5-04fd-469e-e4d9-acac6e14393c",
        "colab": {
          "base_uri": "https://localhost:8080/"
        }
      },
      "outputs": [
        {
          "output_type": "execute_result",
          "data": {
            "text/plain": [
              "20"
            ]
          },
          "metadata": {},
          "execution_count": 6
        }
      ],
      "source": [
        "i+j"
      ]
    },
    {
      "cell_type": "markdown",
      "source": [
        "### 리스트 복사  "
      ],
      "metadata": {
        "id": "o4hUAiy811av"
      }
    },
    {
      "cell_type": "code",
      "source": [
        "a = [1,2,3]\n",
        "b = a"
      ],
      "metadata": {
        "id": "k3AxC8Dk20vf"
      },
      "execution_count": null,
      "outputs": []
    },
    {
      "cell_type": "code",
      "source": [
        "id(a)"
      ],
      "metadata": {
        "colab": {
          "base_uri": "https://localhost:8080/"
        },
        "id": "FfqsWFH424_e",
        "outputId": "40d5dcb7-e0f4-4526-ac5b-8712ed754295"
      },
      "execution_count": null,
      "outputs": [
        {
          "output_type": "execute_result",
          "data": {
            "text/plain": [
              "140306742924544"
            ]
          },
          "metadata": {},
          "execution_count": 8
        }
      ]
    },
    {
      "cell_type": "code",
      "source": [
        "id(b)"
      ],
      "metadata": {
        "colab": {
          "base_uri": "https://localhost:8080/"
        },
        "id": "cui454iv28UR",
        "outputId": "60ea06d5-1ef6-4dcb-dfb3-dd7e42aaa0ef"
      },
      "execution_count": null,
      "outputs": [
        {
          "output_type": "execute_result",
          "data": {
            "text/plain": [
              "140306742924544"
            ]
          },
          "metadata": {},
          "execution_count": 9
        }
      ]
    },
    {
      "cell_type": "code",
      "source": [
        "a is b"
      ],
      "metadata": {
        "colab": {
          "base_uri": "https://localhost:8080/"
        },
        "id": "gHLv7AGV29dH",
        "outputId": "4dee6634-e173-4d4f-b265-e09b8399814b"
      },
      "execution_count": null,
      "outputs": [
        {
          "output_type": "execute_result",
          "data": {
            "text/plain": [
              "True"
            ]
          },
          "metadata": {},
          "execution_count": 10
        }
      ]
    },
    {
      "cell_type": "markdown",
      "source": [
        "a 리스트의 요소를 바꾸면서 b의 값은 그대로 유지하고 싶을 경우  \n",
        "1. [:] 사용  \n",
        "2. copy module 사용"
      ],
      "metadata": {
        "id": "d06IRYdQ3Lsj"
      }
    },
    {
      "cell_type": "markdown",
      "source": [
        "1. [:] 사용  "
      ],
      "metadata": {
        "id": "wp7jLxxS3vB6"
      }
    },
    {
      "cell_type": "code",
      "source": [
        "a = [1,2,3]\n",
        "b = a[:]\n",
        "a[1] = 4"
      ],
      "metadata": {
        "id": "yVUTNl_G3X1G"
      },
      "execution_count": null,
      "outputs": []
    },
    {
      "cell_type": "code",
      "source": [
        "a"
      ],
      "metadata": {
        "colab": {
          "base_uri": "https://localhost:8080/"
        },
        "id": "JoojzhWu3m8X",
        "outputId": "b56372f9-7fd6-4ab0-845e-b64979b59c5f"
      },
      "execution_count": null,
      "outputs": [
        {
          "output_type": "execute_result",
          "data": {
            "text/plain": [
              "[1, 4, 3]"
            ]
          },
          "metadata": {},
          "execution_count": 13
        }
      ]
    },
    {
      "cell_type": "code",
      "source": [
        "b"
      ],
      "metadata": {
        "colab": {
          "base_uri": "https://localhost:8080/"
        },
        "id": "w2GfI5m33nt-",
        "outputId": "14a839b9-bcdb-4f3a-da79-1d072b2e8e85"
      },
      "execution_count": null,
      "outputs": [
        {
          "output_type": "execute_result",
          "data": {
            "text/plain": [
              "[1, 2, 3]"
            ]
          },
          "metadata": {},
          "execution_count": 14
        }
      ]
    },
    {
      "cell_type": "markdown",
      "source": [
        "2. copy module 사용"
      ],
      "metadata": {
        "id": "OKl0e16e3wwV"
      }
    },
    {
      "cell_type": "code",
      "source": [
        "from copy import copy\n",
        "a = [1,2,3]\n",
        "b = copy(a)"
      ],
      "metadata": {
        "id": "UDldYAKl3xqw"
      },
      "execution_count": null,
      "outputs": []
    },
    {
      "cell_type": "code",
      "source": [
        "b is a "
      ],
      "metadata": {
        "colab": {
          "base_uri": "https://localhost:8080/"
        },
        "id": "-OowUFil36zQ",
        "outputId": "3aef7cd4-4610-4757-f4ef-9304d5eaf6cf"
      },
      "execution_count": null,
      "outputs": [
        {
          "output_type": "execute_result",
          "data": {
            "text/plain": [
              "False"
            ]
          },
          "metadata": {},
          "execution_count": 18
        }
      ]
    },
    {
      "cell_type": "markdown",
      "source": [
        "위의 결과를 통해 b와 a가 가리키는 객체는 서로 다르다는 것을 알 수 있다."
      ],
      "metadata": {
        "id": "6hpcoeiY4Btk"
      }
    },
    {
      "cell_type": "markdown",
      "source": [
        "### 변수를 만드는 여러 가지 방법"
      ],
      "metadata": {
        "id": "6UTJlsd14MGi"
      }
    },
    {
      "cell_type": "code",
      "source": [
        "a , b = ('python','life') # 튜플로 만드는 방법\n",
        "[a,b] = ['python','life'] # 리스트로 만드는 방법 "
      ],
      "metadata": {
        "id": "X3LQ2j3P4K9W"
      },
      "execution_count": null,
      "outputs": []
    },
    {
      "cell_type": "code",
      "source": [
        "a = b = 'python' # 여러개의 변수에 같은 값을 대입 할 수 있다."
      ],
      "metadata": {
        "id": "1IiMVeQf4jIG"
      },
      "execution_count": null,
      "outputs": []
    },
    {
      "cell_type": "code",
      "source": [
        "a = 3\n",
        "b = 5 \n",
        "a, b = b, a\n",
        "a"
      ],
      "metadata": {
        "colab": {
          "base_uri": "https://localhost:8080/"
        },
        "id": "8c7hINU54upG",
        "outputId": "c2a59487-ae01-4037-ed15-ec08529f1b54"
      },
      "execution_count": null,
      "outputs": [
        {
          "output_type": "execute_result",
          "data": {
            "text/plain": [
              "5"
            ]
          },
          "metadata": {},
          "execution_count": 25
        }
      ]
    },
    {
      "cell_type": "code",
      "source": [
        "b"
      ],
      "metadata": {
        "colab": {
          "base_uri": "https://localhost:8080/"
        },
        "id": "ZjalnEHQ4zTx",
        "outputId": "01d689b0-6590-4a6b-fd9e-d22892b90c81"
      },
      "execution_count": null,
      "outputs": [
        {
          "output_type": "execute_result",
          "data": {
            "text/plain": [
              "3"
            ]
          },
          "metadata": {},
          "execution_count": 24
        }
      ]
    },
    {
      "cell_type": "markdown",
      "metadata": {
        "id": "4e5-k1frCs91"
      },
      "source": [
        "## 문자열"
      ]
    },
    {
      "cell_type": "markdown",
      "metadata": {
        "id": "LBDau3PgCs91"
      },
      "source": [
        "Python의 문자열(string,`str`)은 문자(character)의 열(sequence)이다. 문자열의 정의는 `' '`와 `\" \"`로 모두 정의할 수 있다.\n",
        "\n",
        "아래의 함수 `type`은 주어진 인자의 형식(type)을 보여준다"
      ]
    },
    {
      "cell_type": "code",
      "execution_count": null,
      "metadata": {
        "id": "wiSR95gnCs92",
        "outputId": "a6fb56dc-5f01-4aae-b90e-5cc7da62496f"
      },
      "outputs": [
        {
          "data": {
            "text/plain": [
              "str"
            ]
          },
          "execution_count": 18,
          "metadata": {},
          "output_type": "execute_result"
        }
      ],
      "source": [
        "type('이용희')"
      ]
    },
    {
      "cell_type": "code",
      "execution_count": null,
      "metadata": {
        "id": "0sa0uXKfCs92",
        "outputId": "99d6805d-072b-4ce3-c216-e857cf26f50a"
      },
      "outputs": [
        {
          "data": {
            "text/plain": [
              "str"
            ]
          },
          "execution_count": 19,
          "metadata": {},
          "output_type": "execute_result"
        }
      ],
      "source": [
        "type(\"이용희\")"
      ]
    },
    {
      "cell_type": "markdown",
      "source": [
        "문자열을 만드는 방법으로는 4가지 방법이 있다."
      ],
      "metadata": {
        "id": "9BkLzZdn5PCK"
      }
    },
    {
      "cell_type": "code",
      "source": [
        "\"이용희 교수님\" # 큰따옴표로 양쪽 둘러싸기"
      ],
      "metadata": {
        "id": "gAPqHoif5QWE"
      },
      "execution_count": null,
      "outputs": []
    },
    {
      "cell_type": "code",
      "source": [
        "'이용희 교수님' # 작은따옴표로 양쪽 둘러싸기"
      ],
      "metadata": {
        "id": "BXRYYvKv5SNl"
      },
      "execution_count": null,
      "outputs": []
    },
    {
      "cell_type": "code",
      "source": [
        "\"\"\" 이용희 교수님 \"\"\" # 큰따옴표 3개를 연속으로 써서 양쪽 둘러싸기"
      ],
      "metadata": {
        "id": "Rco_kKjX5Tyl"
      },
      "execution_count": null,
      "outputs": []
    },
    {
      "cell_type": "code",
      "source": [
        "''' 이용희 교수님 ''' # 작은따옴표 3개를 연속으로 써서 양쪽 둘러싸기 "
      ],
      "metadata": {
        "id": "9KbyaJCD5cgc"
      },
      "execution_count": null,
      "outputs": []
    },
    {
      "cell_type": "markdown",
      "source": [
        "문자열 안에 작은 따옴표나 큰 따옴표를 포함시키고 싶을 때가 있다."
      ],
      "metadata": {
        "id": "sLaPh6KS5pfu"
      }
    },
    {
      "cell_type": "markdown",
      "source": [
        "1. 문자열에 작은 따옴표 포함시키기"
      ],
      "metadata": {
        "id": "Mb_fMQQF6kzi"
      }
    },
    {
      "cell_type": "code",
      "source": [
        "이용희 교수님's favorite hobby is cooking # 예제 "
      ],
      "metadata": {
        "id": "zBYOMzcZ5wj2"
      },
      "execution_count": null,
      "outputs": []
    },
    {
      "cell_type": "code",
      "source": [
        "hobby = \"이용희 교수님's favorite hobby is cooking\""
      ],
      "metadata": {
        "id": "vf06SkVb5_4l"
      },
      "execution_count": null,
      "outputs": []
    },
    {
      "cell_type": "code",
      "source": [
        "hobby # 문자열을 큰 따옴표로 둘러 싸야한다."
      ],
      "metadata": {
        "colab": {
          "base_uri": "https://localhost:8080/",
          "height": 35
        },
        "id": "6UWosEuC6UXM",
        "outputId": "bba9e056-dc02-4e9d-e1b8-b61cd2546406"
      },
      "execution_count": null,
      "outputs": [
        {
          "output_type": "execute_result",
          "data": {
            "text/plain": [
              "\"이용희 교수님's favorite hobby is cooking\""
            ],
            "application/vnd.google.colaboratory.intrinsic+json": {
              "type": "string"
            }
          },
          "metadata": {},
          "execution_count": 30
        }
      ]
    },
    {
      "cell_type": "code",
      "source": [
        "hobby = '이용희 교수님's favorite hobby is cooking' # 작은따옴표로 문자열을 둘러 쌀 경우에는 오류가 발생할 것이다."
      ],
      "metadata": {
        "colab": {
          "base_uri": "https://localhost:8080/",
          "height": 137
        },
        "id": "UcJshRlo6XEt",
        "outputId": "8967fd66-9a8a-476b-91b4-63771b88f7e1"
      },
      "execution_count": null,
      "outputs": [
        {
          "output_type": "error",
          "ename": "SyntaxError",
          "evalue": "ignored",
          "traceback": [
            "\u001b[0;36m  File \u001b[0;32m\"<ipython-input-31-d476c61ba4ad>\"\u001b[0;36m, line \u001b[0;32m1\u001b[0m\n\u001b[0;31m    hobby = '이용희 교수님's favorite hobby is cooking'\u001b[0m\n\u001b[0m                     ^\u001b[0m\n\u001b[0;31mSyntaxError\u001b[0m\u001b[0;31m:\u001b[0m invalid syntax\n"
          ]
        }
      ]
    },
    {
      "cell_type": "markdown",
      "source": [
        "2. 문자열에 큰 따옴표 포함시키기"
      ],
      "metadata": {
        "id": "xcYekJsJ6tvr"
      }
    },
    {
      "cell_type": "code",
      "source": [
        "\"cooking is very easy.\" he says. # 예제 "
      ],
      "metadata": {
        "id": "5t9yMRjm6soE"
      },
      "execution_count": null,
      "outputs": []
    },
    {
      "cell_type": "code",
      "source": [
        "say = '\"cooking is very easy.\" he says.'"
      ],
      "metadata": {
        "id": "nXiLvPU762g9"
      },
      "execution_count": null,
      "outputs": []
    },
    {
      "cell_type": "code",
      "source": [
        "say"
      ],
      "metadata": {
        "colab": {
          "base_uri": "https://localhost:8080/",
          "height": 35
        },
        "id": "QEpQuPM069fN",
        "outputId": "836104e2-6e71-442d-d893-e594f063792f"
      },
      "execution_count": null,
      "outputs": [
        {
          "output_type": "execute_result",
          "data": {
            "text/plain": [
              "'\"cooking is very easy.\" he says.'"
            ],
            "application/vnd.google.colaboratory.intrinsic+json": {
              "type": "string"
            }
          },
          "metadata": {},
          "execution_count": 33
        }
      ]
    },
    {
      "cell_type": "markdown",
      "source": [
        "쉽게말해 큰따옴표를 포함시키고 싶으면 밖에 작은따옴표를 , 작은 따옴표를 포함시키고 싶을 때에는 밖에 큰 따옴표를 둘러싸면된다."
      ],
      "metadata": {
        "id": "ZvzVIJUe72U3"
      }
    },
    {
      "cell_type": "markdown",
      "source": [
        "3. 백슬래시를 사용해서 작은따옴표와 큰따옴표를 문자열에 포함시키기"
      ],
      "metadata": {
        "id": "gztH0CFm7vys"
      }
    },
    {
      "cell_type": "code",
      "source": [
        "food = '이용희 교수님\\'s favorite food is coffee'\n",
        "say = \"\\\"cooking is very easy.\\\" he says.\""
      ],
      "metadata": {
        "id": "olPODwA87HfN"
      },
      "execution_count": null,
      "outputs": []
    },
    {
      "cell_type": "code",
      "source": [
        "food"
      ],
      "metadata": {
        "colab": {
          "base_uri": "https://localhost:8080/",
          "height": 35
        },
        "id": "cdjbXleH7kzE",
        "outputId": "452663dc-2bd2-45ff-ae20-827fd62e22db"
      },
      "execution_count": null,
      "outputs": [
        {
          "output_type": "execute_result",
          "data": {
            "text/plain": [
              "\"이용희 교수님's favorite food is coffee\""
            ],
            "application/vnd.google.colaboratory.intrinsic+json": {
              "type": "string"
            }
          },
          "metadata": {},
          "execution_count": 36
        }
      ]
    },
    {
      "cell_type": "code",
      "source": [
        "say"
      ],
      "metadata": {
        "colab": {
          "base_uri": "https://localhost:8080/",
          "height": 35
        },
        "id": "AxebkkjJ7qFk",
        "outputId": "11e98aef-d8ff-4a8f-e0a7-fe2edac9739e"
      },
      "execution_count": null,
      "outputs": [
        {
          "output_type": "execute_result",
          "data": {
            "text/plain": [
              "'\"cooking is very easy.\" he says.'"
            ],
            "application/vnd.google.colaboratory.intrinsic+json": {
              "type": "string"
            }
          },
          "metadata": {},
          "execution_count": 37
        }
      ]
    },
    {
      "cell_type": "markdown",
      "source": [
        "여러 줄인 문자열을 변수에 대입하고 싶을 때"
      ],
      "metadata": {
        "id": "-t9X40U47tPI"
      }
    },
    {
      "cell_type": "code",
      "source": [
        "Life is too short\n",
        "You need machine learning"
      ],
      "metadata": {
        "id": "ABASE7bl8H3V"
      },
      "execution_count": null,
      "outputs": []
    },
    {
      "cell_type": "code",
      "source": [
        "multiline = \"Life is too short\\nYou need machine learning\""
      ],
      "metadata": {
        "id": "6QyOQvh08Md9"
      },
      "execution_count": null,
      "outputs": []
    },
    {
      "cell_type": "code",
      "source": [
        "print(multiline)"
      ],
      "metadata": {
        "colab": {
          "base_uri": "https://localhost:8080/"
        },
        "id": "qIQ9dDWv8Xoc",
        "outputId": "3062aaba-14db-4d08-f0f1-137e36c76a49"
      },
      "execution_count": null,
      "outputs": [
        {
          "output_type": "stream",
          "name": "stdout",
          "text": [
            "\n",
            "life is too short\n",
            "you need machine learning\n",
            "\n"
          ]
        }
      ]
    },
    {
      "cell_type": "markdown",
      "source": [
        "위의 방법은 길고 불편할 수 있으므로 "
      ],
      "metadata": {
        "id": "v95Li6Gf8u6W"
      }
    },
    {
      "cell_type": "code",
      "source": [
        "multiline = '''\n",
        "life is too short\n",
        "you need machine learning\n",
        "'''"
      ],
      "metadata": {
        "id": "P2uA9NMJ8byE"
      },
      "execution_count": null,
      "outputs": []
    },
    {
      "cell_type": "code",
      "source": [
        "multiline = \"\"\"\n",
        "life is too short\n",
        "you need machine learning\n",
        "\"\"\""
      ],
      "metadata": {
        "id": "lo9qw5b98fdf"
      },
      "execution_count": null,
      "outputs": []
    },
    {
      "cell_type": "code",
      "source": [
        "print(multiline)"
      ],
      "metadata": {
        "colab": {
          "base_uri": "https://localhost:8080/"
        },
        "id": "nnX5P3TW8nqs",
        "outputId": "f284060a-8e23-4713-81b1-c280642b1203"
      },
      "execution_count": null,
      "outputs": [
        {
          "output_type": "stream",
          "name": "stdout",
          "text": [
            "\n",
            "life is too short\n",
            "you need machine learning\n",
            "\n"
          ]
        }
      ]
    },
    {
      "cell_type": "markdown",
      "metadata": {
        "id": "whMI-KalCs92"
      },
      "source": [
        "### 문자열의 연산"
      ]
    },
    {
      "cell_type": "markdown",
      "metadata": {
        "id": "iuiHkVTgCs92"
      },
      "source": [
        "Python은 문자열들을 여러 가지 연산자로 이용하여 조합할 수 있다"
      ]
    },
    {
      "cell_type": "code",
      "execution_count": null,
      "metadata": {
        "id": "nfmvQt_SCs92",
        "outputId": "f64c5bd2-946a-4899-f0fe-a06c7edf07c6"
      },
      "outputs": [
        {
          "data": {
            "text/plain": [
              "'나는 이용희'"
            ]
          },
          "execution_count": 20,
          "metadata": {},
          "output_type": "execute_result"
        }
      ],
      "source": [
        "\"나는\" \" 이용희\"  # \"나는\" + \" 이용희\" 와 동일한 기능"
      ]
    },
    {
      "cell_type": "markdown",
      "source": [
        "1. 문자열 더해서 연결하기(Concatenation)"
      ],
      "metadata": {
        "id": "MeqBgrg982yL"
      }
    },
    {
      "cell_type": "code",
      "execution_count": null,
      "metadata": {
        "id": "7ApFWSzsCs92",
        "outputId": "935eacdf-9641-48bf-8fd2-c3c3bea360c6"
      },
      "outputs": [
        {
          "data": {
            "text/plain": [
              "'I am 이용희'"
            ]
          },
          "execution_count": 21,
          "metadata": {},
          "output_type": "execute_result"
        }
      ],
      "source": [
        "a=\"I am\"+\" 이용희\"\n",
        "a"
      ]
    },
    {
      "cell_type": "code",
      "execution_count": null,
      "metadata": {
        "id": "rmH_pth6Cs92",
        "outputId": "e55ebdee-ccdc-4dbd-f75c-855b8fe9143c"
      },
      "outputs": [
        {
          "name": "stdout",
          "output_type": "stream",
          "text": [
            "I am 이용희\n"
          ]
        }
      ],
      "source": [
        "print(a)"
      ]
    },
    {
      "cell_type": "code",
      "execution_count": null,
      "metadata": {
        "id": "v8Gk1hE5Cs93",
        "outputId": "4b11b8d6-cc7c-46e3-b36a-3c11e229ff57"
      },
      "outputs": [
        {
          "data": {
            "text/plain": [
              "'나는 이철수'"
            ]
          },
          "execution_count": 23,
          "metadata": {},
          "output_type": "execute_result"
        }
      ],
      "source": [
        "t1 = \" 이철수\"\n",
        "\"나는\" + t1"
      ]
    },
    {
      "cell_type": "markdown",
      "source": [
        "2. 문자열 곱하기"
      ],
      "metadata": {
        "id": "xb8pxrPC89TS"
      }
    },
    {
      "cell_type": "code",
      "execution_count": null,
      "metadata": {
        "id": "TPQyrYuLCs93",
        "outputId": "4f988f97-af26-4c36-ed06-27c1c6f610a6"
      },
      "outputs": [
        {
          "data": {
            "text/plain": [
              "'아이고 아이고 아이고 '"
            ]
          },
          "execution_count": 24,
          "metadata": {},
          "output_type": "execute_result"
        }
      ],
      "source": [
        "3*'아이고 '"
      ]
    },
    {
      "cell_type": "markdown",
      "source": [
        "3. 문자열 길이 구하기"
      ],
      "metadata": {
        "id": "iBJevXxM9K4B"
      }
    },
    {
      "cell_type": "code",
      "source": [
        "a = \"Life is too short\"\n",
        "len(a)"
      ],
      "metadata": {
        "colab": {
          "base_uri": "https://localhost:8080/"
        },
        "id": "OfasyLh89M5t",
        "outputId": "9a479991-fc4f-4c6b-95f3-ecb0540ed09b"
      },
      "execution_count": null,
      "outputs": [
        {
          "output_type": "execute_result",
          "data": {
            "text/plain": [
              "17"
            ]
          },
          "metadata": {},
          "execution_count": 48
        }
      ]
    },
    {
      "cell_type": "markdown",
      "metadata": {
        "id": "vg-0pG-MCs93"
      },
      "source": [
        "`(\"\\\")` 뒤에 나오는 문자가 특수 문자로 취급되게 하고 싶지 않다면, 첫 따옴표 앞에 `(\"r\")` 을 붙여서 *원시 문자열 (raw string)* 을 만들 수 있습니다."
      ]
    },
    {
      "cell_type": "code",
      "execution_count": null,
      "metadata": {
        "id": "VVmu3MhFCs93",
        "outputId": "f9a6c57d-6035-4893-89cc-48302442c828"
      },
      "outputs": [
        {
          "name": "stdout",
          "output_type": "stream",
          "text": [
            "C:\\some\\name\n"
          ]
        }
      ],
      "source": [
        "print(r'C:\\some\\name')"
      ]
    },
    {
      "cell_type": "markdown",
      "source": [
        "#### 문자열 인덱싱과 슬라이싱 "
      ],
      "metadata": {
        "id": "ad4tmSph9num"
      }
    },
    {
      "cell_type": "markdown",
      "metadata": {
        "id": "5SyVGrTmCs93"
      },
      "source": [
        "문자열의 일부분을 `[start:end]`로 추출할 수 있으며 **start index 는 0 부터 시작한다.**  \n",
        "R과 매우 다른 점은 index에서 start:end 이면 start 는 포함되고 end는 포함되지 않는다.\n",
        "\n",
        "또한 index 는 음수도 가능하면 가장 마자막 문자가 -1부터 시작하고 반대 방향으로 -1 만큼씩 줄어든다. "
      ]
    },
    {
      "cell_type": "code",
      "execution_count": null,
      "metadata": {
        "scrolled": true,
        "id": "S6Bf41qECs93",
        "outputId": "5570d5e1-c2e2-4b7e-9e55-370a99fd20a2"
      },
      "outputs": [
        {
          "data": {
            "text/plain": [
              "'a'"
            ]
          },
          "execution_count": 26,
          "metadata": {},
          "output_type": "execute_result"
        }
      ],
      "source": [
        "mt = 'abc'\n",
        "mt[0] "
      ]
    },
    {
      "cell_type": "code",
      "execution_count": null,
      "metadata": {
        "id": "tt3FSudvCs93",
        "outputId": "d4e5453d-ac38-4fe4-faf0-554a25869575"
      },
      "outputs": [
        {
          "data": {
            "text/plain": [
              "'ab'"
            ]
          },
          "execution_count": 27,
          "metadata": {},
          "output_type": "execute_result"
        }
      ],
      "source": [
        "mt[0:2]"
      ]
    },
    {
      "cell_type": "code",
      "execution_count": null,
      "metadata": {
        "id": "IWaxo4KjCs94",
        "outputId": "87527cb9-7a8c-48e3-eb0d-e116325cd32c"
      },
      "outputs": [
        {
          "data": {
            "text/plain": [
              "'c'"
            ]
          },
          "execution_count": 28,
          "metadata": {},
          "output_type": "execute_result"
        }
      ],
      "source": [
        "mt[-1]"
      ]
    },
    {
      "cell_type": "code",
      "execution_count": null,
      "metadata": {
        "id": "GD4DvWWPCs94",
        "outputId": "87bae40f-70ef-424e-c8d0-b5bdaf1a7e59"
      },
      "outputs": [
        {
          "data": {
            "text/plain": [
              "'b'"
            ]
          },
          "execution_count": 29,
          "metadata": {},
          "output_type": "execute_result"
        }
      ],
      "source": [
        "mt[-2]"
      ]
    },
    {
      "cell_type": "code",
      "execution_count": null,
      "metadata": {
        "id": "KbE0BAg_Cs94",
        "outputId": "392e301c-caab-4faf-dc86-e2c4054437f0"
      },
      "outputs": [
        {
          "data": {
            "text/plain": [
              "'ab'"
            ]
          },
          "execution_count": 30,
          "metadata": {},
          "output_type": "execute_result"
        }
      ],
      "source": [
        "mt[-3:-1]"
      ]
    },
    {
      "cell_type": "markdown",
      "metadata": {
        "id": "9sQziefsCs94"
      },
      "source": [
        "문자열의 일부분을 지정연산자로 바꿀 수는 없다. "
      ]
    },
    {
      "cell_type": "code",
      "execution_count": null,
      "metadata": {
        "id": "V6XWHyzjCs94",
        "outputId": "a8b566bd-9588-4f22-d78e-0fe28720e433"
      },
      "outputs": [
        {
          "ename": "TypeError",
          "evalue": "'str' object does not support item assignment",
          "output_type": "error",
          "traceback": [
            "\u001b[0;31m---------------------------------------------------------------------------\u001b[0m",
            "\u001b[0;31mTypeError\u001b[0m                                 Traceback (most recent call last)",
            "\u001b[0;32m<ipython-input-31-44aa63810784>\u001b[0m in \u001b[0;36m<module>\u001b[0;34m\u001b[0m\n\u001b[0;32m----> 1\u001b[0;31m \u001b[0mmt\u001b[0m\u001b[0;34m[\u001b[0m\u001b[0;36m1\u001b[0m\u001b[0;34m]\u001b[0m \u001b[0;34m=\u001b[0m \u001b[0;34m'f'\u001b[0m\u001b[0;34m\u001b[0m\u001b[0;34m\u001b[0m\u001b[0m\n\u001b[0m",
            "\u001b[0;31mTypeError\u001b[0m: 'str' object does not support item assignment"
          ]
        }
      ],
      "source": [
        "mt[1] = 'f'"
      ]
    },
    {
      "cell_type": "markdown",
      "source": [
        "문자열 슬라이싱을 구체적으로 살펴보자"
      ],
      "metadata": {
        "id": "cMpPDgBnT-Dc"
      }
    },
    {
      "cell_type": "code",
      "source": [
        "a = \"20221228dday\"\n",
        "date = a[:8]\n",
        "date"
      ],
      "metadata": {
        "colab": {
          "base_uri": "https://localhost:8080/",
          "height": 35
        },
        "id": "k5XCr3LmUCXZ",
        "outputId": "a63bc5a5-28c5-4704-efbe-8158376966db"
      },
      "execution_count": null,
      "outputs": [
        {
          "output_type": "execute_result",
          "data": {
            "text/plain": [
              "'20221228'"
            ],
            "application/vnd.google.colaboratory.intrinsic+json": {
              "type": "string"
            }
          },
          "metadata": {},
          "execution_count": 51
        }
      ]
    },
    {
      "cell_type": "code",
      "source": [
        "whatday=a[8:]\n",
        "whatday"
      ],
      "metadata": {
        "colab": {
          "base_uri": "https://localhost:8080/",
          "height": 35
        },
        "id": "HvZi6MrIUMTS",
        "outputId": "281c16c3-0095-4270-89b4-707adc0b37be"
      },
      "execution_count": null,
      "outputs": [
        {
          "output_type": "execute_result",
          "data": {
            "text/plain": [
              "'dday'"
            ],
            "application/vnd.google.colaboratory.intrinsic+json": {
              "type": "string"
            }
          },
          "metadata": {},
          "execution_count": 53
        }
      ]
    },
    {
      "cell_type": "code",
      "source": [
        "year = a[:4]\n",
        "year"
      ],
      "metadata": {
        "colab": {
          "base_uri": "https://localhost:8080/",
          "height": 35
        },
        "id": "FIb4QF6KUYjw",
        "outputId": "01889cad-280f-4190-b9b2-6b6436b7889a"
      },
      "execution_count": null,
      "outputs": [
        {
          "output_type": "execute_result",
          "data": {
            "text/plain": [
              "'2022'"
            ],
            "application/vnd.google.colaboratory.intrinsic+json": {
              "type": "string"
            }
          },
          "metadata": {},
          "execution_count": 56
        }
      ]
    },
    {
      "cell_type": "code",
      "source": [
        "month = a[4:6]\n",
        "month"
      ],
      "metadata": {
        "colab": {
          "base_uri": "https://localhost:8080/",
          "height": 35
        },
        "id": "OpwLJyx7VBoY",
        "outputId": "2e10ee8e-405a-4c49-a7e3-8bfa4ae5899f"
      },
      "execution_count": null,
      "outputs": [
        {
          "output_type": "execute_result",
          "data": {
            "text/plain": [
              "'12'"
            ],
            "application/vnd.google.colaboratory.intrinsic+json": {
              "type": "string"
            }
          },
          "metadata": {},
          "execution_count": 61
        }
      ]
    },
    {
      "cell_type": "code",
      "source": [
        "day = a[6:8]\n",
        "day"
      ],
      "metadata": {
        "colab": {
          "base_uri": "https://localhost:8080/",
          "height": 35
        },
        "id": "x-zN8JcTVQ4o",
        "outputId": "f75ef564-353b-4388-e7d1-fbafe956efc0"
      },
      "execution_count": null,
      "outputs": [
        {
          "output_type": "execute_result",
          "data": {
            "text/plain": [
              "'28'"
            ],
            "application/vnd.google.colaboratory.intrinsic+json": {
              "type": "string"
            }
          },
          "metadata": {},
          "execution_count": 63
        }
      ]
    },
    {
      "cell_type": "markdown",
      "source": [
        "### 문자열 포매팅"
      ],
      "metadata": {
        "id": "BpINMxMqWJAx"
      }
    },
    {
      "cell_type": "markdown",
      "source": [
        "formatting - 문자열을 만들때 원하는 위치에 특정한 값(변수)를 삽입해서 문자열을 그때그때 이쁘게 출력하는 것을 의미합니다."
      ],
      "metadata": {
        "id": "IjVyJK5k5r68"
      }
    },
    {
      "cell_type": "code",
      "source": [
        "\"I eat %d apples.\" %3"
      ],
      "metadata": {
        "colab": {
          "base_uri": "https://localhost:8080/",
          "height": 35
        },
        "id": "YBd1IPyaWLKa",
        "outputId": "19cd2e4f-b324-4562-8315-0970d3664c31"
      },
      "execution_count": null,
      "outputs": [
        {
          "output_type": "execute_result",
          "data": {
            "text/plain": [
              "'I eat 3 apples.'"
            ],
            "application/vnd.google.colaboratory.intrinsic+json": {
              "type": "string"
            }
          },
          "metadata": {},
          "execution_count": 64
        }
      ]
    },
    {
      "cell_type": "code",
      "source": [
        "\"I eat %s apples.\" %\"five\""
      ],
      "metadata": {
        "colab": {
          "base_uri": "https://localhost:8080/",
          "height": 35
        },
        "id": "IKMfEXgIWStG",
        "outputId": "68901fb1-2355-44eb-f1ab-d0c09e08972e"
      },
      "execution_count": null,
      "outputs": [
        {
          "output_type": "execute_result",
          "data": {
            "text/plain": [
              "'I eat five apples.'"
            ],
            "application/vnd.google.colaboratory.intrinsic+json": {
              "type": "string"
            }
          },
          "metadata": {},
          "execution_count": 65
        }
      ]
    },
    {
      "cell_type": "markdown",
      "source": [
        "문자를 쓰려면 %s 를 써야하며 , 숫자를 넣기 위해서는 %d를 써야한다."
      ],
      "metadata": {
        "id": "0v8OHGGGWXzA"
      }
    },
    {
      "cell_type": "code",
      "source": [
        "number = 3\n",
        "\"I eat %d apples.\" %number"
      ],
      "metadata": {
        "colab": {
          "base_uri": "https://localhost:8080/",
          "height": 35
        },
        "id": "guL-RwVMWng1",
        "outputId": "07b28c5f-fbcf-40c2-eddb-4f733558d0b2"
      },
      "execution_count": null,
      "outputs": [
        {
          "output_type": "execute_result",
          "data": {
            "text/plain": [
              "'I eat 3 apples.'"
            ],
            "application/vnd.google.colaboratory.intrinsic+json": {
              "type": "string"
            }
          },
          "metadata": {},
          "execution_count": 66
        }
      ]
    },
    {
      "cell_type": "markdown",
      "source": [
        "숫자 값을 나타내는 변수로 대입하는 방법"
      ],
      "metadata": {
        "id": "UL9iNipmWuj-"
      }
    },
    {
      "cell_type": "code",
      "source": [
        "number = 100\n",
        "day = \"three\"\n",
        "\"I ate %d apples. So I was sick for %s days.\" % (number,day)"
      ],
      "metadata": {
        "colab": {
          "base_uri": "https://localhost:8080/",
          "height": 35
        },
        "id": "GoH775IFWyLV",
        "outputId": "e767d27f-80f0-45ed-afca-b32118cf93d6"
      },
      "execution_count": null,
      "outputs": [
        {
          "output_type": "execute_result",
          "data": {
            "text/plain": [
              "'I ate 100 apples. So I was sick for three days.'"
            ],
            "application/vnd.google.colaboratory.intrinsic+json": {
              "type": "string"
            }
          },
          "metadata": {},
          "execution_count": 67
        }
      ]
    },
    {
      "cell_type": "code",
      "source": [
        "\"I have %s apples\" % 3"
      ],
      "metadata": {
        "colab": {
          "base_uri": "https://localhost:8080/",
          "height": 35
        },
        "id": "mBHm4ypgXGIN",
        "outputId": "784b6ab2-457d-46a0-c3ec-2f84cd6f35c4"
      },
      "execution_count": null,
      "outputs": [
        {
          "output_type": "execute_result",
          "data": {
            "text/plain": [
              "'I have 3 apples'"
            ],
            "application/vnd.google.colaboratory.intrinsic+json": {
              "type": "string"
            }
          },
          "metadata": {},
          "execution_count": 68
        }
      ]
    },
    {
      "cell_type": "code",
      "source": [
        "\"rate is %s\" %3.234"
      ],
      "metadata": {
        "colab": {
          "base_uri": "https://localhost:8080/",
          "height": 35
        },
        "id": "lXziOQgPXRXR",
        "outputId": "e2502772-5613-4c3e-fcae-8a1b85204654"
      },
      "execution_count": null,
      "outputs": [
        {
          "output_type": "execute_result",
          "data": {
            "text/plain": [
              "'rate is 3.234'"
            ],
            "application/vnd.google.colaboratory.intrinsic+json": {
              "type": "string"
            }
          },
          "metadata": {},
          "execution_count": 69
        }
      ]
    },
    {
      "cell_type": "markdown",
      "source": [
        "%s 의 경우 어떠한 형태로든 입력이 가능하기 때문에 만능키라고 볼 수있다."
      ],
      "metadata": {
        "id": "XmiVYS_QXXmL"
      }
    },
    {
      "cell_type": "markdown",
      "source": [
        "#### 포맷코드와 숫자 함께 사용하기"
      ],
      "metadata": {
        "id": "aH4UUZLLXhzt"
      }
    },
    {
      "cell_type": "code",
      "source": [
        "\"%10s\" % \"hi\" # 오른쪽 정렬하고 나머지는 공백으로 남기라는 의미"
      ],
      "metadata": {
        "colab": {
          "base_uri": "https://localhost:8080/",
          "height": 35
        },
        "id": "VNLI54NkXltP",
        "outputId": "cfa3a996-99a5-4fb3-9ade-2f29836896ed"
      },
      "execution_count": null,
      "outputs": [
        {
          "output_type": "execute_result",
          "data": {
            "text/plain": [
              "'        hi'"
            ],
            "application/vnd.google.colaboratory.intrinsic+json": {
              "type": "string"
            }
          },
          "metadata": {},
          "execution_count": 70
        }
      ]
    },
    {
      "cell_type": "code",
      "source": [
        "\"%-10slee\" % \"hi\"# 왼쪽 정렬"
      ],
      "metadata": {
        "colab": {
          "base_uri": "https://localhost:8080/",
          "height": 35
        },
        "id": "aHdgDkYRYLEh",
        "outputId": "5c95f078-75c8-4088-de49-78a1b41c11b6"
      },
      "execution_count": null,
      "outputs": [
        {
          "output_type": "execute_result",
          "data": {
            "text/plain": [
              "'hi        lee'"
            ],
            "application/vnd.google.colaboratory.intrinsic+json": {
              "type": "string"
            }
          },
          "metadata": {},
          "execution_count": 71
        }
      ]
    },
    {
      "cell_type": "code",
      "source": [
        "\"%0.4f\" % 3.42134234"
      ],
      "metadata": {
        "colab": {
          "base_uri": "https://localhost:8080/",
          "height": 35
        },
        "id": "xLyTsARNYXZG",
        "outputId": "4eb981a0-b0b4-4adf-973c-0c4a678d1fc4"
      },
      "execution_count": null,
      "outputs": [
        {
          "output_type": "execute_result",
          "data": {
            "text/plain": [
              "'3.4213'"
            ],
            "application/vnd.google.colaboratory.intrinsic+json": {
              "type": "string"
            }
          },
          "metadata": {},
          "execution_count": 72
        }
      ]
    },
    {
      "cell_type": "code",
      "source": [
        "\"%10.4f\" % 3.42134234"
      ],
      "metadata": {
        "colab": {
          "base_uri": "https://localhost:8080/",
          "height": 35
        },
        "id": "qTp9xtiZYjI2",
        "outputId": "7a7f1f75-7ae2-4588-a6a9-f4e753af2c34"
      },
      "execution_count": null,
      "outputs": [
        {
          "output_type": "execute_result",
          "data": {
            "text/plain": [
              "'    3.4213'"
            ],
            "application/vnd.google.colaboratory.intrinsic+json": {
              "type": "string"
            }
          },
          "metadata": {},
          "execution_count": 73
        }
      ]
    },
    {
      "cell_type": "markdown",
      "source": [
        "#### format 함수를 사용한 포매팅"
      ],
      "metadata": {
        "id": "wmZPaQrYbvRh"
      }
    },
    {
      "cell_type": "code",
      "source": [
        "\"I eat {0} apples\".format(3)"
      ],
      "metadata": {
        "colab": {
          "base_uri": "https://localhost:8080/",
          "height": 35
        },
        "id": "OxRxm5fQbyUN",
        "outputId": "86701886-07a9-40c2-f553-ee68be3f759a"
      },
      "execution_count": null,
      "outputs": [
        {
          "output_type": "execute_result",
          "data": {
            "text/plain": [
              "'I eat 3 apples'"
            ],
            "application/vnd.google.colaboratory.intrinsic+json": {
              "type": "string"
            }
          },
          "metadata": {},
          "execution_count": 75
        }
      ]
    },
    {
      "cell_type": "code",
      "source": [
        "\"I eat {0} apples\".format(\"five\")"
      ],
      "metadata": {
        "colab": {
          "base_uri": "https://localhost:8080/",
          "height": 35
        },
        "id": "8WAq14OCb-dz",
        "outputId": "8cb7d11a-85e9-4a9a-fe8d-c4d4bb7284f4"
      },
      "execution_count": null,
      "outputs": [
        {
          "output_type": "execute_result",
          "data": {
            "text/plain": [
              "'I eat five apples'"
            ],
            "application/vnd.google.colaboratory.intrinsic+json": {
              "type": "string"
            }
          },
          "metadata": {},
          "execution_count": 76
        }
      ]
    },
    {
      "cell_type": "code",
      "source": [
        "number = 3\n",
        "\"I eat {0} apples\".format(number)"
      ],
      "metadata": {
        "colab": {
          "base_uri": "https://localhost:8080/",
          "height": 35
        },
        "id": "q3bzFoqjcMYE",
        "outputId": "9ddab754-c1b4-4068-847f-c43ddefc75a8"
      },
      "execution_count": null,
      "outputs": [
        {
          "output_type": "execute_result",
          "data": {
            "text/plain": [
              "'I eat 3 apples'"
            ],
            "application/vnd.google.colaboratory.intrinsic+json": {
              "type": "string"
            }
          },
          "metadata": {},
          "execution_count": 77
        }
      ]
    },
    {
      "cell_type": "code",
      "source": [
        "number = 10 \n",
        "day = \"three\"\n",
        "\"I ate {0} apples. so I was sick for {1} days.\".format(number,day) # 2개이상 값 넣기"
      ],
      "metadata": {
        "colab": {
          "base_uri": "https://localhost:8080/",
          "height": 35
        },
        "id": "yAUPWon0cYHv",
        "outputId": "e7d162ab-b04f-457d-c8c2-e781db5bb0e2"
      },
      "execution_count": null,
      "outputs": [
        {
          "output_type": "execute_result",
          "data": {
            "text/plain": [
              "'I ate 10 apples. so I was sick for three days.'"
            ],
            "application/vnd.google.colaboratory.intrinsic+json": {
              "type": "string"
            }
          },
          "metadata": {},
          "execution_count": 78
        }
      ]
    },
    {
      "cell_type": "code",
      "source": [
        "\"I ate {number} apples. so I was sick for {day} days.\".format(number=10, day=3) # 이름으로 넣기"
      ],
      "metadata": {
        "colab": {
          "base_uri": "https://localhost:8080/",
          "height": 35
        },
        "id": "86_FMv2hcvvT",
        "outputId": "a9b69502-ff68-4a2e-93bf-f8dff0188279"
      },
      "execution_count": null,
      "outputs": [
        {
          "output_type": "execute_result",
          "data": {
            "text/plain": [
              "'I ate 10 apples. so I was sick for 3 days.'"
            ],
            "application/vnd.google.colaboratory.intrinsic+json": {
              "type": "string"
            }
          },
          "metadata": {},
          "execution_count": 79
        }
      ]
    },
    {
      "cell_type": "code",
      "source": [
        "\"I ate {0} apples. so I was sick for {day} days.\".format(10,day=3) # 인덱스와 이름을 혼용해서 넣기"
      ],
      "metadata": {
        "colab": {
          "base_uri": "https://localhost:8080/",
          "height": 35
        },
        "id": "6JMSSC2cc_NT",
        "outputId": "3d3d3a51-ba2e-4ccd-960d-6eeca4812905"
      },
      "execution_count": null,
      "outputs": [
        {
          "output_type": "execute_result",
          "data": {
            "text/plain": [
              "'I ate 10 apples. so I was sick for 3 days.'"
            ],
            "application/vnd.google.colaboratory.intrinsic+json": {
              "type": "string"
            }
          },
          "metadata": {},
          "execution_count": 80
        }
      ]
    },
    {
      "cell_type": "markdown",
      "source": [
        "왼쪽 정렬 "
      ],
      "metadata": {
        "id": "tycomqGydUKn"
      }
    },
    {
      "cell_type": "code",
      "source": [
        "\"{0:<10}\".format(\"hi\") # 왼쪽 정렬 + 총 자릿수 10 "
      ],
      "metadata": {
        "colab": {
          "base_uri": "https://localhost:8080/",
          "height": 35
        },
        "id": "Z0r90_u8dVEf",
        "outputId": "78895e85-e0d8-40ee-a8cb-909cc1e755c9"
      },
      "execution_count": null,
      "outputs": [
        {
          "output_type": "execute_result",
          "data": {
            "text/plain": [
              "'hi        '"
            ],
            "application/vnd.google.colaboratory.intrinsic+json": {
              "type": "string"
            }
          },
          "metadata": {},
          "execution_count": 81
        }
      ]
    },
    {
      "cell_type": "markdown",
      "source": [
        "오른쪽 정렬"
      ],
      "metadata": {
        "id": "7eEBs_lndebO"
      }
    },
    {
      "cell_type": "code",
      "source": [
        "\"{0:>10}\".format(\"hi\") # 오른쪽 정렬 + 총 자릿수 10 "
      ],
      "metadata": {
        "colab": {
          "base_uri": "https://localhost:8080/",
          "height": 35
        },
        "id": "Xss37hjSdfLi",
        "outputId": "2103f474-61bb-45bf-af49-909a950f54d8"
      },
      "execution_count": null,
      "outputs": [
        {
          "output_type": "execute_result",
          "data": {
            "text/plain": [
              "'        hi'"
            ],
            "application/vnd.google.colaboratory.intrinsic+json": {
              "type": "string"
            }
          },
          "metadata": {},
          "execution_count": 82
        }
      ]
    },
    {
      "cell_type": "markdown",
      "source": [
        "가운데 정렬"
      ],
      "metadata": {
        "id": "L_wv7IB6dwv8"
      }
    },
    {
      "cell_type": "code",
      "source": [
        "\"{0:^10}\".format(\"hi\")"
      ],
      "metadata": {
        "colab": {
          "base_uri": "https://localhost:8080/",
          "height": 35
        },
        "id": "GYmZwebIdxo6",
        "outputId": "204241ad-35ed-490f-d59a-4504022d1477"
      },
      "execution_count": null,
      "outputs": [
        {
          "output_type": "execute_result",
          "data": {
            "text/plain": [
              "'    hi    '"
            ],
            "application/vnd.google.colaboratory.intrinsic+json": {
              "type": "string"
            }
          },
          "metadata": {},
          "execution_count": 83
        }
      ]
    },
    {
      "cell_type": "markdown",
      "source": [
        "공백 채우기"
      ],
      "metadata": {
        "id": "DV4f00P8d2wf"
      }
    },
    {
      "cell_type": "code",
      "source": [
        "\"{0:=^10}\".format(\"hi\")"
      ],
      "metadata": {
        "colab": {
          "base_uri": "https://localhost:8080/",
          "height": 35
        },
        "id": "XY1XSdEYd3pq",
        "outputId": "f175ef71-7300-41a7-edc8-9115efb9d4a1"
      },
      "execution_count": null,
      "outputs": [
        {
          "output_type": "execute_result",
          "data": {
            "text/plain": [
              "'====hi===='"
            ],
            "application/vnd.google.colaboratory.intrinsic+json": {
              "type": "string"
            }
          },
          "metadata": {},
          "execution_count": 84
        }
      ]
    },
    {
      "cell_type": "code",
      "source": [
        "\"{0:!<10}\".format(\"hi\")"
      ],
      "metadata": {
        "colab": {
          "base_uri": "https://localhost:8080/",
          "height": 35
        },
        "id": "h9qhmZ1Hd_7F",
        "outputId": "48b925b1-4738-46d0-bc97-723b1c59490e"
      },
      "execution_count": null,
      "outputs": [
        {
          "output_type": "execute_result",
          "data": {
            "text/plain": [
              "'hi!!!!!!!!'"
            ],
            "application/vnd.google.colaboratory.intrinsic+json": {
              "type": "string"
            }
          },
          "metadata": {},
          "execution_count": 85
        }
      ]
    },
    {
      "cell_type": "markdown",
      "source": [
        "### 문자열 관련 함수 "
      ],
      "metadata": {
        "id": "1KCNgOGteJIg"
      }
    },
    {
      "cell_type": "markdown",
      "source": [
        "문자 갯수 세기(count)"
      ],
      "metadata": {
        "id": "XXu2RYLHeppV"
      }
    },
    {
      "cell_type": "code",
      "source": [
        "a = \"hobby\"\n",
        "a.count('b') "
      ],
      "metadata": {
        "colab": {
          "base_uri": "https://localhost:8080/"
        },
        "id": "IIPv3sjIeOxa",
        "outputId": "4717def9-6365-4adf-ac16-8e5baf745d4e"
      },
      "execution_count": null,
      "outputs": [
        {
          "output_type": "execute_result",
          "data": {
            "text/plain": [
              "2"
            ]
          },
          "metadata": {},
          "execution_count": 86
        }
      ]
    },
    {
      "cell_type": "markdown",
      "source": [
        "위치 알려주기1 (find)"
      ],
      "metadata": {
        "id": "Uq9uB2QuesJd"
      }
    },
    {
      "cell_type": "code",
      "source": [
        "a = \"machine learning is the best choice\"\n",
        "a.find(\"l\") # 찾는 문자나 문자열이 존재 x 면 -1을 반환한다."
      ],
      "metadata": {
        "colab": {
          "base_uri": "https://localhost:8080/"
        },
        "id": "uNy-nqp1eWsV",
        "outputId": "a8f101a2-cd55-44b6-ee4c-de3348ea971f"
      },
      "execution_count": null,
      "outputs": [
        {
          "output_type": "execute_result",
          "data": {
            "text/plain": [
              "8"
            ]
          },
          "metadata": {},
          "execution_count": 87
        }
      ]
    },
    {
      "cell_type": "markdown",
      "source": [
        "위치 알려주기2 (index)"
      ],
      "metadata": {
        "id": "YGytYgotevp2"
      }
    },
    {
      "cell_type": "code",
      "source": [
        "a = \"Life is too short\"\n",
        "a.index(\"t\")"
      ],
      "metadata": {
        "colab": {
          "base_uri": "https://localhost:8080/"
        },
        "id": "f57JyQirefXi",
        "outputId": "8550f049-fded-46b3-842c-ff27c6666698"
      },
      "execution_count": null,
      "outputs": [
        {
          "output_type": "execute_result",
          "data": {
            "text/plain": [
              "8"
            ]
          },
          "metadata": {},
          "execution_count": 88
        }
      ]
    },
    {
      "cell_type": "markdown",
      "source": [
        "문자열 삽입(join)"
      ],
      "metadata": {
        "id": "q-I1xIqXfCrL"
      }
    },
    {
      "cell_type": "code",
      "source": [
        "\",\".join('abcd')"
      ],
      "metadata": {
        "colab": {
          "base_uri": "https://localhost:8080/",
          "height": 35
        },
        "id": "kqqCf37vfFsY",
        "outputId": "b4414a9a-40ce-434e-aa9a-a91fb6bee8aa"
      },
      "execution_count": null,
      "outputs": [
        {
          "output_type": "execute_result",
          "data": {
            "text/plain": [
              "'a,b,c,d'"
            ],
            "application/vnd.google.colaboratory.intrinsic+json": {
              "type": "string"
            }
          },
          "metadata": {},
          "execution_count": 89
        }
      ]
    },
    {
      "cell_type": "code",
      "source": [
        "\"!\".join(['a','b','c','d']) # 리스트 튜플 둘다 사용 가능! "
      ],
      "metadata": {
        "colab": {
          "base_uri": "https://localhost:8080/",
          "height": 35
        },
        "id": "MzF5uSL3fayh",
        "outputId": "da803db3-84cc-4741-f5da-60f45908ba8a"
      },
      "execution_count": null,
      "outputs": [
        {
          "output_type": "execute_result",
          "data": {
            "text/plain": [
              "'a!b!c!d'"
            ],
            "application/vnd.google.colaboratory.intrinsic+json": {
              "type": "string"
            }
          },
          "metadata": {},
          "execution_count": 90
        }
      ]
    },
    {
      "cell_type": "markdown",
      "source": [
        "대문자를 소문자로 바꾸기(lower)"
      ],
      "metadata": {
        "id": "E116oRuHfphg"
      }
    },
    {
      "cell_type": "code",
      "source": [
        "a = \"HIO\"\n",
        "a.lower()"
      ],
      "metadata": {
        "colab": {
          "base_uri": "https://localhost:8080/",
          "height": 35
        },
        "id": "jwvopoJLfrD1",
        "outputId": "ed49f91a-8d78-4e33-fa0f-e4d8a0bd6bec"
      },
      "execution_count": null,
      "outputs": [
        {
          "output_type": "execute_result",
          "data": {
            "text/plain": [
              "'hio'"
            ],
            "application/vnd.google.colaboratory.intrinsic+json": {
              "type": "string"
            }
          },
          "metadata": {},
          "execution_count": 91
        }
      ]
    },
    {
      "cell_type": "markdown",
      "source": [
        "왼쪽 공백 지우기(lstrip)"
      ],
      "metadata": {
        "id": "6JL4-UuUfumK"
      }
    },
    {
      "cell_type": "code",
      "source": [
        "a = \" hi \"\n",
        "a.lstrip()"
      ],
      "metadata": {
        "colab": {
          "base_uri": "https://localhost:8080/",
          "height": 35
        },
        "id": "ywQTXFFHf83R",
        "outputId": "ce78f8d4-51df-4a5d-89b9-6ea3a8642fa7"
      },
      "execution_count": null,
      "outputs": [
        {
          "output_type": "execute_result",
          "data": {
            "text/plain": [
              "'hi '"
            ],
            "application/vnd.google.colaboratory.intrinsic+json": {
              "type": "string"
            }
          },
          "metadata": {},
          "execution_count": 92
        }
      ]
    },
    {
      "cell_type": "markdown",
      "source": [
        "오른쪽 공백 지우기(rstrip)"
      ],
      "metadata": {
        "id": "-keInAkegT4f"
      }
    },
    {
      "cell_type": "code",
      "source": [
        "a = \" 705 \"\n",
        "a.rstrip()"
      ],
      "metadata": {
        "colab": {
          "base_uri": "https://localhost:8080/",
          "height": 35
        },
        "id": "h3il55algVf7",
        "outputId": "26306b87-74c7-416c-a577-a64d23484c43"
      },
      "execution_count": null,
      "outputs": [
        {
          "output_type": "execute_result",
          "data": {
            "text/plain": [
              "' 705'"
            ],
            "application/vnd.google.colaboratory.intrinsic+json": {
              "type": "string"
            }
          },
          "metadata": {},
          "execution_count": 93
        }
      ]
    },
    {
      "cell_type": "markdown",
      "source": [
        "양쪽 공백 지우기(strip)"
      ],
      "metadata": {
        "id": "Z6ipYOcigaBk"
      }
    },
    {
      "cell_type": "code",
      "source": [
        "a = \" hi \"\n",
        "a.strip()"
      ],
      "metadata": {
        "colab": {
          "base_uri": "https://localhost:8080/",
          "height": 35
        },
        "id": "eMINTxbQgb9i",
        "outputId": "f22d2a06-2480-47eb-b2ce-20aeb450e6b3"
      },
      "execution_count": null,
      "outputs": [
        {
          "output_type": "execute_result",
          "data": {
            "text/plain": [
              "'hi'"
            ],
            "application/vnd.google.colaboratory.intrinsic+json": {
              "type": "string"
            }
          },
          "metadata": {},
          "execution_count": 95
        }
      ]
    },
    {
      "cell_type": "markdown",
      "source": [
        "문자열 바꾸기(replace)"
      ],
      "metadata": {
        "id": "NXYusDPogg5H"
      }
    },
    {
      "cell_type": "code",
      "source": [
        "a = \"Life is too short\"\n",
        "a.replace(\"Life\",\"Your leg\")"
      ],
      "metadata": {
        "colab": {
          "base_uri": "https://localhost:8080/",
          "height": 35
        },
        "id": "FnoaMqLNgiwR",
        "outputId": "88b3ff20-de09-43da-c60c-5240d681c6fb"
      },
      "execution_count": null,
      "outputs": [
        {
          "output_type": "execute_result",
          "data": {
            "text/plain": [
              "'Your leg is too short'"
            ],
            "application/vnd.google.colaboratory.intrinsic+json": {
              "type": "string"
            }
          },
          "metadata": {},
          "execution_count": 96
        }
      ]
    },
    {
      "cell_type": "markdown",
      "source": [
        "문자열 나누기(split)"
      ],
      "metadata": {
        "id": "SYihTbgbgpzH"
      }
    },
    {
      "cell_type": "code",
      "source": [
        "a = \"Life is too short\"\n",
        "a.split()"
      ],
      "metadata": {
        "colab": {
          "base_uri": "https://localhost:8080/"
        },
        "id": "0Z2VypVvgrax",
        "outputId": "fe046060-8c29-4876-f61e-c5c243193509"
      },
      "execution_count": null,
      "outputs": [
        {
          "output_type": "execute_result",
          "data": {
            "text/plain": [
              "['Life', 'is', 'too', 'short']"
            ]
          },
          "metadata": {},
          "execution_count": 101
        }
      ]
    },
    {
      "cell_type": "code",
      "source": [
        "b = \"a:b:c:d\"\n",
        "b.split(\":\")"
      ],
      "metadata": {
        "colab": {
          "base_uri": "https://localhost:8080/"
        },
        "id": "gfkaZIXfg5HJ",
        "outputId": "2a429e32-b0b6-43bf-aae7-9c74e446128b"
      },
      "execution_count": null,
      "outputs": [
        {
          "output_type": "execute_result",
          "data": {
            "text/plain": [
              "['a', 'b', 'c', 'd']"
            ]
          },
          "metadata": {},
          "execution_count": 100
        }
      ]
    },
    {
      "cell_type": "markdown",
      "metadata": {
        "id": "0-Jzst5ECs95"
      },
      "source": [
        "## 튜플"
      ]
    },
    {
      "cell_type": "markdown",
      "metadata": {
        "id": "6e5qivRQCs95"
      },
      "source": [
        "튜플(tuple)은 함수의 인자(argument in function) 형식을 일반화한 자료 형식이다.\n",
        "\n",
        "수학에서 다음과 같이 a,b,c,d 가 함수의 인자로 인식되는데 이러한 인자의 구조를 나타낸 형식이다.\n",
        "\n",
        "$$ f(a,b,c,d) = a + b + c + d $$\n",
        "\n",
        "보통 괄호와 컴마를 사용하여 정의한다."
      ]
    },
    {
      "cell_type": "code",
      "execution_count": null,
      "metadata": {
        "id": "FnDILRNGCs95",
        "outputId": "cad015d6-1922-42fb-9be7-c45b33c49a8c"
      },
      "outputs": [
        {
          "data": {
            "text/plain": [
              "('a', 'b')"
            ]
          },
          "execution_count": 32,
          "metadata": {},
          "output_type": "execute_result"
        }
      ],
      "source": [
        "x = ('a', 'b')  # Parentheses instead of the square brackets\n",
        "x = 'a', 'b'    # Or no brackets --- the meaning is identical\n",
        "x"
      ]
    },
    {
      "cell_type": "code",
      "execution_count": null,
      "metadata": {
        "id": "pB3b2QT5Cs95",
        "outputId": "2e15b387-d270-4d17-86a9-a793f839ef29"
      },
      "outputs": [
        {
          "data": {
            "text/plain": [
              "tuple"
            ]
          },
          "execution_count": 33,
          "metadata": {},
          "output_type": "execute_result"
        }
      ],
      "source": [
        "type(x)"
      ]
    },
    {
      "cell_type": "code",
      "execution_count": null,
      "metadata": {
        "id": "La8l6YyvCs95",
        "outputId": "c5bfbd38-6297-4cd3-8d92-96685e1bbf4b"
      },
      "outputs": [
        {
          "data": {
            "text/plain": [
              "'a'"
            ]
          },
          "execution_count": 34,
          "metadata": {},
          "output_type": "execute_result"
        }
      ],
      "source": [
        "x[0]"
      ]
    },
    {
      "cell_type": "markdown",
      "metadata": {
        "id": "EBVtnAzgCs95"
      },
      "source": [
        "튜플은 여러 가지 다른 형식의 자료들을 동시에 포함할 수 있다."
      ]
    },
    {
      "cell_type": "code",
      "execution_count": null,
      "metadata": {
        "id": "oovvKnYcCs96",
        "outputId": "8f8caf91-d2eb-4ad2-fc70-c32a9c432e61"
      },
      "outputs": [
        {
          "data": {
            "text/plain": [
              "(1, 'a', 12.1)"
            ]
          },
          "execution_count": 35,
          "metadata": {},
          "output_type": "execute_result"
        }
      ],
      "source": [
        "y = 1, 'a', 12.1\n",
        "y"
      ]
    },
    {
      "cell_type": "markdown",
      "metadata": {
        "id": "D4Jn6i1YCs96"
      },
      "source": [
        "튜플도 문자열처럼 일부를 지정하여 바꿀 수 없다."
      ]
    },
    {
      "cell_type": "code",
      "execution_count": null,
      "metadata": {
        "id": "DayLRPG2Cs96",
        "outputId": "5de6e62c-05c4-4872-e26c-6dd3f1b4b1db"
      },
      "outputs": [
        {
          "ename": "TypeError",
          "evalue": "'tuple' object does not support item assignment",
          "output_type": "error",
          "traceback": [
            "\u001b[0;31m---------------------------------------------------------------------------\u001b[0m",
            "\u001b[0;31mTypeError\u001b[0m                                 Traceback (most recent call last)",
            "\u001b[0;32m<ipython-input-36-04a2900a8706>\u001b[0m in \u001b[0;36m<module>\u001b[0;34m\u001b[0m\n\u001b[0;32m----> 1\u001b[0;31m \u001b[0mx\u001b[0m\u001b[0;34m[\u001b[0m\u001b[0;36m0\u001b[0m\u001b[0;34m]\u001b[0m \u001b[0;34m=\u001b[0m \u001b[0;36m1\u001b[0m\u001b[0;34m\u001b[0m\u001b[0;34m\u001b[0m\u001b[0m\n\u001b[0m",
            "\u001b[0;31mTypeError\u001b[0m: 'tuple' object does not support item assignment"
          ]
        }
      ],
      "source": [
        "x[0] = 1"
      ]
    },
    {
      "cell_type": "markdown",
      "source": [
        "튜플의 인덱싱, 실라이싱, 더하기, 곱하기 과정은 똑같다 하지만 요솟값을 삭제하려하거나 변경하려 한다면 오류가 발생한다."
      ],
      "metadata": {
        "id": "4eT8GG1a52m3"
      }
    },
    {
      "cell_type": "markdown",
      "metadata": {
        "id": "LtzA64kbCs96"
      },
      "source": [
        "## 리스트"
      ]
    },
    {
      "cell_type": "markdown",
      "metadata": {
        "id": "lGQsEc90Cs96"
      },
      "source": [
        "python 자체는 R, C 등과 같은 언어와 다르게 배열(Array) 형식이 없다. 배열 형식을 사용하려면 Numpy와 같은 패키지를 사용해야 한다.\n",
        "\n",
        "python 자체는 리스트(list)라는 자료의 형식을 제공하며 이는 R의 리스트와 동일하게 여러 가지 자료를 묶어 놓은 형식이다. \n"
      ]
    },
    {
      "cell_type": "code",
      "execution_count": null,
      "metadata": {
        "id": "4SMPiA-wCs96",
        "outputId": "cb728c19-2fee-49e9-a7b1-70b7f69e5456"
      },
      "outputs": [
        {
          "data": {
            "text/plain": [
              "[1, 2, 3, 4, 5]"
            ]
          },
          "execution_count": 93,
          "metadata": {},
          "output_type": "execute_result"
        }
      ],
      "source": [
        "mylist = [1, 2, 3, 4, 5]\n",
        "mylist"
      ]
    },
    {
      "cell_type": "code",
      "execution_count": null,
      "metadata": {
        "id": "BTd5j20TCs96",
        "outputId": "c89c13bc-7284-4219-eef9-4ad02cf7953c"
      },
      "outputs": [
        {
          "data": {
            "text/plain": [
              "1"
            ]
          },
          "execution_count": 94,
          "metadata": {},
          "output_type": "execute_result"
        }
      ],
      "source": [
        "mylist[0]"
      ]
    },
    {
      "cell_type": "markdown",
      "source": [
        "리스트의 슬라이싱"
      ],
      "metadata": {
        "id": "TU1C77pc87zI"
      }
    },
    {
      "cell_type": "code",
      "execution_count": null,
      "metadata": {
        "scrolled": true,
        "id": "E0BnwYDJCs97",
        "outputId": "7c2c8899-42e9-4a5b-f151-a9dc81cfd815"
      },
      "outputs": [
        {
          "data": {
            "text/plain": [
              "[1, 2, 3]"
            ]
          },
          "execution_count": 95,
          "metadata": {},
          "output_type": "execute_result"
        }
      ],
      "source": [
        "mylist[0:3]"
      ]
    },
    {
      "cell_type": "code",
      "execution_count": null,
      "metadata": {
        "id": "coaJoP3tCs97",
        "outputId": "63e6823d-32f3-4656-ce30-c3eff992daca"
      },
      "outputs": [
        {
          "data": {
            "text/plain": [
              "[1, 3, 5]"
            ]
          },
          "execution_count": 96,
          "metadata": {},
          "output_type": "execute_result"
        }
      ],
      "source": [
        "mylist[0::2]  # this is start=0 to the end with increment 2 -> 0,2,4 "
      ]
    },
    {
      "cell_type": "code",
      "execution_count": null,
      "metadata": {
        "id": "WwMQdEtVCs97",
        "outputId": "f79eb7a6-235c-4c71-8839-7a42115e5a36"
      },
      "outputs": [
        {
          "data": {
            "text/plain": [
              "[1, 'a', 3.2, 'abc']"
            ]
          },
          "execution_count": 97,
          "metadata": {},
          "output_type": "execute_result"
        }
      ],
      "source": [
        "anylist = [1,'a', 3.2, 'abc']\n",
        "anylist"
      ]
    },
    {
      "cell_type": "markdown",
      "source": [
        "리스트 합치기"
      ],
      "metadata": {
        "id": "pxSavbyP9B_E"
      }
    },
    {
      "cell_type": "code",
      "execution_count": null,
      "metadata": {
        "id": "hGFBuDPUCs97",
        "outputId": "ef4ae27e-f53e-4ca1-c995-a8aec3cf31c9"
      },
      "outputs": [
        {
          "data": {
            "text/plain": [
              "[[1, 2, 3, 4, 5], [1, 'a', 3.2, 'abc']]"
            ]
          },
          "execution_count": 98,
          "metadata": {},
          "output_type": "execute_result"
        }
      ],
      "source": [
        "alllist = [mylist, anylist]\n",
        "alllist"
      ]
    },
    {
      "cell_type": "code",
      "execution_count": null,
      "metadata": {
        "id": "Px8hALemCs97",
        "outputId": "d02d7b4e-2a53-4467-e258-aa27cdc020e9"
      },
      "outputs": [
        {
          "data": {
            "text/plain": [
              "[1, 2, 3, 4, 5]"
            ]
          },
          "execution_count": 99,
          "metadata": {},
          "output_type": "execute_result"
        }
      ],
      "source": [
        "alllist[0]"
      ]
    },
    {
      "cell_type": "markdown",
      "source": [
        "첫번째 리스트의 2번째 요소 값"
      ],
      "metadata": {
        "id": "cfE8qiOU9F2I"
      }
    },
    {
      "cell_type": "code",
      "execution_count": null,
      "metadata": {
        "id": "BBihPG00Cs97",
        "outputId": "69c02a0a-4eeb-457d-bca0-f21ca977731c"
      },
      "outputs": [
        {
          "data": {
            "text/plain": [
              "3"
            ]
          },
          "execution_count": 100,
          "metadata": {},
          "output_type": "execute_result"
        }
      ],
      "source": [
        "alllist[0][2]"
      ]
    },
    {
      "cell_type": "markdown",
      "metadata": {
        "id": "n5RHLa_mCs97"
      },
      "source": [
        "리스트는 튜플과 다르게 일부의 값을 바꿀 수 있다. "
      ]
    },
    {
      "cell_type": "code",
      "execution_count": null,
      "metadata": {
        "id": "Ac8MosahCs98",
        "outputId": "cbaa5ed0-213b-4404-eb25-35c584755e05"
      },
      "outputs": [
        {
          "data": {
            "text/plain": [
              "[10, 2, 3, 4, 5]"
            ]
          },
          "execution_count": 101,
          "metadata": {},
          "output_type": "execute_result"
        }
      ],
      "source": [
        "mylist[0] = 10\n",
        "mylist"
      ]
    },
    {
      "cell_type": "markdown",
      "metadata": {
        "id": "xVUxmJIlCs98"
      },
      "source": [
        "리스트에 값을 첨가할 수도 있고 제거할 수도 있다."
      ]
    },
    {
      "cell_type": "code",
      "execution_count": null,
      "metadata": {
        "id": "ZMnvtqppCs98",
        "outputId": "ed7359aa-852e-45f8-d4ae-74fd2eb1cbb7"
      },
      "outputs": [
        {
          "data": {
            "text/plain": [
              "[10, 2, 3, 4, 5, 100, 200]"
            ]
          },
          "execution_count": 102,
          "metadata": {},
          "output_type": "execute_result"
        }
      ],
      "source": [
        "mylist.append(100)\n",
        "mylist.append(200)\n",
        "mylist"
      ]
    },
    {
      "cell_type": "code",
      "execution_count": null,
      "metadata": {
        "id": "2q8HpVL_Cs98",
        "outputId": "3393c1a3-4f75-4514-c322-adee35f1e511"
      },
      "outputs": [
        {
          "data": {
            "text/plain": [
              "[10, 2, 'A', 'B', 'C', 100, 200]"
            ]
          },
          "execution_count": 103,
          "metadata": {},
          "output_type": "execute_result"
        }
      ],
      "source": [
        "mylist[2:5] = ['A','B','C']\n",
        "mylist"
      ]
    },
    {
      "cell_type": "code",
      "execution_count": null,
      "metadata": {
        "id": "idiePmbHCs98",
        "outputId": "e61670e7-7485-45db-9180-18725618f585"
      },
      "outputs": [
        {
          "data": {
            "text/plain": [
              "[10, 2, 'A', 'B', 'C']"
            ]
          },
          "execution_count": 104,
          "metadata": {},
          "output_type": "execute_result"
        }
      ],
      "source": [
        "mylist[5:7]=[]\n",
        "mylist"
      ]
    },
    {
      "cell_type": "markdown",
      "metadata": {
        "id": "jsEIOUEgCs98"
      },
      "source": [
        "### 리스트를 생성하는 방법"
      ]
    },
    {
      "cell_type": "markdown",
      "metadata": {
        "id": "SOIA1Uf5Cs98"
      },
      "source": [
        "리스트를 루프 또는 이터러블 정의하는 방법은 아래외 같다."
      ]
    },
    {
      "cell_type": "code",
      "execution_count": null,
      "metadata": {
        "id": "s8GwEETPCs98",
        "outputId": "28f006e2-dea3-46e5-ed30-a6c2f835b5ff"
      },
      "outputs": [
        {
          "data": {
            "text/plain": [
              "[0, 1, 4, 9, 16, 25, 36, 49, 64, 81]"
            ]
          },
          "execution_count": 1,
          "metadata": {},
          "output_type": "execute_result"
        }
      ],
      "source": [
        "s2 = []\n",
        "for x in range(10):\n",
        "    s2.append(x**2)\n",
        "s2"
      ]
    },
    {
      "cell_type": "code",
      "execution_count": null,
      "metadata": {
        "id": "ppqdDjyDCs99",
        "outputId": "38bcee7d-c050-46ff-a4e7-cffb426b7a85"
      },
      "outputs": [
        {
          "data": {
            "text/plain": [
              "[0, 1, 4, 9, 16, 25, 36, 49, 64, 81]"
            ]
          },
          "execution_count": 3,
          "metadata": {},
          "output_type": "execute_result"
        }
      ],
      "source": [
        "s22 = [x**2 for x in range(10)]\n",
        "s22"
      ]
    },
    {
      "cell_type": "markdown",
      "metadata": {
        "id": "KkhxNSojCs99"
      },
      "source": [
        "### 리스트의 method"
      ]
    },
    {
      "cell_type": "markdown",
      "metadata": {
        "id": "senLGb5kCs99"
      },
      "source": [
        "리스트로 정의된 변수는 여러 가지 작업을 method 형태로 수행할 수 있다. method 는 변수되에 마침표를 붙이고 원하는\n",
        "method를 함수의 형태로 붙이면 된다.\n",
        "\n",
        "예를 들어 하나의 리스트 끝에 원소를 붙이려면 `append` method 를 다음과 같이 사용할 수 있다."
      ]
    },
    {
      "cell_type": "code",
      "execution_count": null,
      "metadata": {
        "id": "1chtY6aLCs99",
        "outputId": "7fe13492-87b9-4178-b24c-917b2307ffc4",
        "colab": {
          "base_uri": "https://localhost:8080/"
        }
      },
      "outputs": [
        {
          "output_type": "execute_result",
          "data": {
            "text/plain": [
              "[1, 2, 3, 4, 5, 100]"
            ]
          },
          "metadata": {},
          "execution_count": 112
        }
      ],
      "source": [
        "mylist = [1, 2, 3, 4, 5]\n",
        "mylist.append(100)\n",
        "mylist"
      ]
    },
    {
      "cell_type": "code",
      "execution_count": null,
      "metadata": {
        "id": "-Kt9F8dpCs99",
        "outputId": "58f77789-54df-485f-afdc-960cfdf76bb2"
      },
      "outputs": [
        {
          "data": {
            "text/plain": [
              "[1, 2, 3, -100, 4, 5, 100]"
            ]
          },
          "execution_count": 12,
          "metadata": {},
          "output_type": "execute_result"
        }
      ],
      "source": [
        "mylist.insert(3,-100) # 3번째 위치 다음에 -100을 넣는다.\n",
        "mylist"
      ]
    },
    {
      "cell_type": "code",
      "execution_count": null,
      "metadata": {
        "id": "uJgbl3M5Cs99",
        "outputId": "4dde9b16-997c-4adc-a7b4-8d9f64e0c51e"
      },
      "outputs": [
        {
          "data": {
            "text/plain": [
              "[1, 2, 3, -100, 4, 5]"
            ]
          },
          "execution_count": 13,
          "metadata": {},
          "output_type": "execute_result"
        }
      ],
      "source": [
        "mylist.remove(100) # 100을 제거 (첫번째로 나오는 x를 삭제하는 함수)\n",
        "mylist"
      ]
    },
    {
      "cell_type": "code",
      "execution_count": null,
      "metadata": {
        "id": "rk3WrCpQCs99",
        "outputId": "9fc9b431-5b7f-48c4-a9cf-ccf47086f1ec"
      },
      "outputs": [
        {
          "data": {
            "text/plain": [
              "[2, 3, -100, 4, 5]"
            ]
          },
          "execution_count": 14,
          "metadata": {},
          "output_type": "execute_result"
        }
      ],
      "source": [
        "mylist.pop(0) #0번째 위치의 원소를 제거\n",
        "mylist"
      ]
    },
    {
      "cell_type": "code",
      "execution_count": null,
      "metadata": {
        "id": "3xeDwAQRCs9-",
        "outputId": "689952a5-d867-4f64-e57b-1f15d75f7260"
      },
      "outputs": [
        {
          "data": {
            "text/plain": [
              "[-100, 2, 3, 4, 5]"
            ]
          },
          "execution_count": 15,
          "metadata": {},
          "output_type": "execute_result"
        }
      ],
      "source": [
        "mylist.sort() # 정렬하기\n",
        "mylist"
      ]
    },
    {
      "cell_type": "code",
      "execution_count": null,
      "metadata": {
        "id": "TSX9YlprCs9-",
        "outputId": "c8726a1d-9a36-424c-b1d5-b108539ee060"
      },
      "outputs": [
        {
          "data": {
            "text/plain": [
              "[2, 3, 4, 5]"
            ]
          },
          "execution_count": 16,
          "metadata": {},
          "output_type": "execute_result"
        }
      ],
      "source": [
        "del mylist[0] # 리스트에서 주어진 위치의 값을 지우기\n",
        "mylist"
      ]
    },
    {
      "cell_type": "code",
      "source": [
        "mylist.extend([7,8]) # 리스트 확장 \n",
        "mylist"
      ],
      "metadata": {
        "colab": {
          "base_uri": "https://localhost:8080/"
        },
        "id": "w0PKpz1u9wAD",
        "outputId": "6f4ce426-44c8-418f-99db-296c05331132"
      },
      "execution_count": null,
      "outputs": [
        {
          "output_type": "execute_result",
          "data": {
            "text/plain": [
              "[1, 2, 3, 4, 5, 100, 7, 8, 7, 8]"
            ]
          },
          "metadata": {},
          "execution_count": 114
        }
      ]
    },
    {
      "cell_type": "markdown",
      "metadata": {
        "id": "aJ-gwZVrCs9-"
      },
      "source": [
        "다음의 method들은 리스트에 적용되는 것들이다. \n",
        "\n",
        "- `list.append(x)` : 리스트의 끝에 `x`를 붙여준다.  `a[len(a):] = [x]`과 같은 효과를 낸다.\n",
        "- `list.extend(iterable)`: 리스트에 이터러블을 붙여준다. `a[len(a):] = iterable` 와 같은 효과를 낸다.\n",
        "- `list.clear()` : 리스트의 모든 원소를 제거한다.\n",
        "- `list.index(x[, start[, end]])`: `x`의 값이 처름으로 나오는 위치를 알려준다.\n",
        "- `list.count(x)`:`x`의 값이 나오는 횟수를 알려준다.\n",
        "- `list.reverse()`: 라스트의 순서를 반대로 배열해준다.\n",
        "- `list.copy()` : 리스트의 얇은 복사(shallow copy)를 해준다."
      ]
    },
    {
      "cell_type": "markdown",
      "metadata": {
        "id": "tv5bFdRzCs9-"
      },
      "source": [
        "### 리스트에 대한 함수"
      ]
    },
    {
      "cell_type": "code",
      "execution_count": null,
      "metadata": {
        "id": "4mBhTCEjCs9-",
        "outputId": "bbce815d-3d7d-4c12-ed71-a6623e15417d"
      },
      "outputs": [
        {
          "data": {
            "text/plain": [
              "5"
            ]
          },
          "execution_count": 53,
          "metadata": {},
          "output_type": "execute_result"
        }
      ],
      "source": [
        "len(mylist) # mylist의 길이"
      ]
    },
    {
      "cell_type": "code",
      "execution_count": null,
      "metadata": {
        "id": "ykDPHKsACs9-",
        "outputId": "3d5266c7-cce1-4422-9cff-52bd55ac2947"
      },
      "outputs": [
        {
          "data": {
            "text/plain": [
              "-86"
            ]
          },
          "execution_count": 54,
          "metadata": {},
          "output_type": "execute_result"
        }
      ],
      "source": [
        "sum(mylist) # mylist의 원소의 합"
      ]
    },
    {
      "cell_type": "code",
      "execution_count": null,
      "metadata": {
        "id": "fHFMbK6OCs9-",
        "outputId": "a7b7baae-255f-461d-93e5-3e5d01c1b1c4"
      },
      "outputs": [
        {
          "data": {
            "text/plain": [
              "5"
            ]
          },
          "execution_count": 55,
          "metadata": {},
          "output_type": "execute_result"
        }
      ],
      "source": [
        "max(mylist) # mylist의 최대값"
      ]
    },
    {
      "cell_type": "markdown",
      "metadata": {
        "id": "2GACifI1Cs9-"
      },
      "source": [
        "## 자료의 형식"
      ]
    },
    {
      "cell_type": "markdown",
      "metadata": {
        "id": "M-4MZoNhCs9_"
      },
      "source": [
        "python은 여러 가지 자료의 형식(data type) 이 있다. 자료의 형식은 `type`함수로 알 수 있다."
      ]
    },
    {
      "cell_type": "code",
      "execution_count": null,
      "metadata": {
        "id": "WDpIRyV8Cs9_",
        "outputId": "6f8e9f88-570a-4451-e2b8-88a0c3334b66"
      },
      "outputs": [
        {
          "data": {
            "text/plain": [
              "int"
            ]
          },
          "execution_count": 56,
          "metadata": {},
          "output_type": "execute_result"
        }
      ],
      "source": [
        "type(100)"
      ]
    },
    {
      "cell_type": "code",
      "execution_count": null,
      "metadata": {
        "id": "azb5doX8Cs9_",
        "outputId": "1a877b11-4c23-476c-addb-8faf6a61b390"
      },
      "outputs": [
        {
          "data": {
            "text/plain": [
              "float"
            ]
          },
          "execution_count": 57,
          "metadata": {},
          "output_type": "execute_result"
        }
      ],
      "source": [
        "type(math.pi)"
      ]
    },
    {
      "cell_type": "code",
      "execution_count": null,
      "metadata": {
        "scrolled": true,
        "id": "6jCVyJkPCs9_",
        "outputId": "f647ebb9-a76e-4bc7-9dd6-67c3495f4e0a"
      },
      "outputs": [
        {
          "data": {
            "text/plain": [
              "tuple"
            ]
          },
          "execution_count": 58,
          "metadata": {},
          "output_type": "execute_result"
        }
      ],
      "source": [
        "type(x)"
      ]
    },
    {
      "cell_type": "code",
      "execution_count": null,
      "metadata": {
        "id": "e_khkej5Cs9_",
        "outputId": "960d24c2-ba51-4b38-b26d-2a404fcc40a0"
      },
      "outputs": [
        {
          "data": {
            "text/plain": [
              "list"
            ]
          },
          "execution_count": 59,
          "metadata": {},
          "output_type": "execute_result"
        }
      ],
      "source": [
        "type(mylist)"
      ]
    },
    {
      "cell_type": "markdown",
      "metadata": {
        "id": "brEtXjnKCs9_"
      },
      "source": [
        "함수 `isinstance(var,type)`은 변수 또는 자료 `var` 이 `type` 형식인지 확인해 준다."
      ]
    },
    {
      "cell_type": "code",
      "execution_count": null,
      "metadata": {
        "id": "0-89CVGwCs9_",
        "outputId": "74f4c6c5-a1ea-48c0-f20d-eb3c9ac1c526"
      },
      "outputs": [
        {
          "data": {
            "text/plain": [
              "True"
            ]
          },
          "execution_count": 60,
          "metadata": {},
          "output_type": "execute_result"
        }
      ],
      "source": [
        "a=100\n",
        "isinstance(a,int)"
      ]
    },
    {
      "cell_type": "code",
      "execution_count": null,
      "metadata": {
        "id": "jS0OKuxWCs9_",
        "outputId": "ad32c099-0b28-4440-d82f-cd1b4f548361"
      },
      "outputs": [
        {
          "data": {
            "text/plain": [
              "False"
            ]
          },
          "execution_count": 61,
          "metadata": {},
          "output_type": "execute_result"
        }
      ],
      "source": [
        "isinstance(a,float)"
      ]
    },
    {
      "cell_type": "markdown",
      "metadata": {
        "id": "eM_JsKsrCs-A"
      },
      "source": [
        "### 형식의 변환"
      ]
    },
    {
      "cell_type": "code",
      "execution_count": null,
      "metadata": {
        "id": "xAURI0CpCs-A",
        "outputId": "87e347b0-b80c-4d9c-868f-5cdc2569d115"
      },
      "outputs": [
        {
          "data": {
            "text/plain": [
              "3"
            ]
          },
          "execution_count": 62,
          "metadata": {},
          "output_type": "execute_result"
        }
      ],
      "source": [
        "a = 3.124\n",
        "int(a)"
      ]
    },
    {
      "cell_type": "code",
      "execution_count": null,
      "metadata": {
        "id": "49hKJfJBCs-A",
        "outputId": "3d3359c6-d51a-458b-d099-434b8d697f25"
      },
      "outputs": [
        {
          "data": {
            "text/plain": [
              "110.0"
            ]
          },
          "execution_count": 63,
          "metadata": {},
          "output_type": "execute_result"
        }
      ],
      "source": [
        "float(110)"
      ]
    },
    {
      "cell_type": "code",
      "execution_count": null,
      "metadata": {
        "id": "zbce3N8zCs-A",
        "outputId": "b38c90a4-fb99-4a3d-8989-c127de57dc74"
      },
      "outputs": [
        {
          "data": {
            "text/plain": [
              "123"
            ]
          },
          "execution_count": 64,
          "metadata": {},
          "output_type": "execute_result"
        }
      ],
      "source": [
        "int('123')"
      ]
    },
    {
      "cell_type": "code",
      "execution_count": null,
      "metadata": {
        "id": "OPoT4GBGCs-A",
        "outputId": "f8b783d2-174c-4f1d-c051-b73fa7bf5393"
      },
      "outputs": [
        {
          "data": {
            "text/plain": [
              "'123'"
            ]
          },
          "execution_count": 65,
          "metadata": {},
          "output_type": "execute_result"
        }
      ],
      "source": [
        "str(123)"
      ]
    },
    {
      "cell_type": "code",
      "execution_count": null,
      "metadata": {
        "id": "bfBIng06Cs-A",
        "outputId": "a1a40ac3-8ef8-46f4-bc0e-dfd88393946a"
      },
      "outputs": [
        {
          "data": {
            "text/plain": [
              "['1', '2', '3']"
            ]
          },
          "execution_count": 66,
          "metadata": {},
          "output_type": "execute_result"
        }
      ],
      "source": [
        "list('123')"
      ]
    },
    {
      "cell_type": "code",
      "execution_count": null,
      "metadata": {
        "id": "vnMymHzXCs-A",
        "outputId": "6f8e422c-78ca-4884-83c9-500f15816efc"
      },
      "outputs": [
        {
          "data": {
            "text/plain": [
              "('a', 'b', 'c')"
            ]
          },
          "execution_count": 67,
          "metadata": {},
          "output_type": "execute_result"
        }
      ],
      "source": [
        "tuple('abc')"
      ]
    },
    {
      "cell_type": "code",
      "execution_count": null,
      "metadata": {
        "id": "tY0s3TwOCs-A",
        "outputId": "40e30f6d-04f0-4b06-e2f7-f3da684c5f81"
      },
      "outputs": [
        {
          "data": {
            "text/plain": [
              "\"('a', 'b', 'c')\""
            ]
          },
          "execution_count": 68,
          "metadata": {},
          "output_type": "execute_result"
        }
      ],
      "source": [
        "str(tuple('abc'))"
      ]
    },
    {
      "cell_type": "markdown",
      "metadata": {
        "id": "lDcJb0VMCs-B"
      },
      "source": [
        "## 사전(dictionary)"
      ]
    },
    {
      "cell_type": "markdown",
      "metadata": {
        "id": "GKVSLZ1tCs-B"
      },
      "source": [
        "Python에서 사전(dictionary)는 다른 범용언어와 유사하게 이름이 있는 리스트와 같다."
      ]
    },
    {
      "cell_type": "markdown",
      "source": [
        "기본 딕셔너리의 모습"
      ],
      "metadata": {
        "id": "ARIY0y_36Wav"
      }
    },
    {
      "cell_type": "code",
      "execution_count": null,
      "metadata": {
        "id": "Y5EI0GjGCs-B"
      },
      "outputs": [],
      "source": [
        "d = dict(a=1, c=10, t=3, z=-2)"
      ]
    },
    {
      "cell_type": "markdown",
      "source": [
        "여기서 a,c,t,z 는 key / 1,10,3,-2는 value 이다."
      ],
      "metadata": {
        "id": "wUa9Refz6ZIP"
      }
    },
    {
      "cell_type": "code",
      "execution_count": null,
      "metadata": {
        "scrolled": true,
        "id": "Jg1b-8cgCs-B",
        "outputId": "61d6db91-bd48-4b98-d4a7-43b8554b1940"
      },
      "outputs": [
        {
          "data": {
            "text/plain": [
              "{'a': 1, 'c': 10, 't': 3, 'z': -2}"
            ]
          },
          "execution_count": 18,
          "metadata": {},
          "output_type": "execute_result"
        }
      ],
      "source": [
        "d"
      ]
    },
    {
      "cell_type": "markdown",
      "source": [
        "다르게 정의해보자"
      ],
      "metadata": {
        "id": "5AbByknH6oF2"
      }
    },
    {
      "cell_type": "code",
      "execution_count": null,
      "metadata": {
        "id": "jvUklLmICs-B"
      },
      "outputs": [],
      "source": [
        "d2 = {'A':'John', 'B':'Smith', 'C':'Mary'}  ## another way to define dictionary"
      ]
    },
    {
      "cell_type": "code",
      "execution_count": null,
      "metadata": {
        "id": "B-4NIPH2Cs-B",
        "outputId": "3fd14314-7aeb-4d77-ab90-609dba3c4b1c"
      },
      "outputs": [
        {
          "data": {
            "text/plain": [
              "{'A': 'John', 'B': 'Smith', 'C': 'Mary'}"
            ]
          },
          "execution_count": 20,
          "metadata": {},
          "output_type": "execute_result"
        }
      ],
      "source": [
        "d2"
      ]
    },
    {
      "cell_type": "code",
      "execution_count": null,
      "metadata": {
        "id": "Zw1q1BmLCs-B",
        "outputId": "645e67e2-1912-4adf-d3ef-e69f12c6ec0d"
      },
      "outputs": [
        {
          "data": {
            "text/plain": [
              "dict"
            ]
          },
          "execution_count": 21,
          "metadata": {},
          "output_type": "execute_result"
        }
      ],
      "source": [
        "type(d)"
      ]
    },
    {
      "cell_type": "code",
      "execution_count": null,
      "metadata": {
        "id": "VP8nBb2qCs-B",
        "outputId": "dee5c06e-bb1f-454c-8095-15cc871c75a7"
      },
      "outputs": [
        {
          "data": {
            "text/plain": [
              "1"
            ]
          },
          "execution_count": 22,
          "metadata": {},
          "output_type": "execute_result"
        }
      ],
      "source": [
        "d['a']"
      ]
    },
    {
      "cell_type": "code",
      "execution_count": null,
      "metadata": {
        "id": "FX4NYEvOCs-C",
        "outputId": "6c738c2b-ff6e-4011-a2fd-517dfe253b01"
      },
      "outputs": [
        {
          "data": {
            "text/plain": [
              "dict_keys(['a', 'c', 't', 'z'])"
            ]
          },
          "execution_count": 23,
          "metadata": {},
          "output_type": "execute_result"
        }
      ],
      "source": [
        "d.keys()"
      ]
    },
    {
      "cell_type": "code",
      "execution_count": null,
      "metadata": {
        "id": "iRWWOZtACs-C",
        "outputId": "c5917537-099e-4693-de32-00ac452314a5"
      },
      "outputs": [
        {
          "data": {
            "text/plain": [
              "['a', 'c', 't', 'z']"
            ]
          },
          "execution_count": 24,
          "metadata": {},
          "output_type": "execute_result"
        }
      ],
      "source": [
        "list(d.keys())"
      ]
    },
    {
      "cell_type": "code",
      "execution_count": null,
      "metadata": {
        "id": "xNhD8UrUCs-C",
        "outputId": "c80e0dec-e7fb-4e1c-a11b-b44733072b43"
      },
      "outputs": [
        {
          "data": {
            "text/plain": [
              "dict_values([1, 10, 3, -2])"
            ]
          },
          "execution_count": 25,
          "metadata": {},
          "output_type": "execute_result"
        }
      ],
      "source": [
        "d.values()"
      ]
    },
    {
      "cell_type": "code",
      "execution_count": null,
      "metadata": {
        "id": "HyCxiUigCs-C",
        "outputId": "4a64c5f8-14ae-4f92-db5f-808c55d292c5"
      },
      "outputs": [
        {
          "data": {
            "text/plain": [
              "[1, 10, 3, -2]"
            ]
          },
          "execution_count": 26,
          "metadata": {},
          "output_type": "execute_result"
        }
      ],
      "source": [
        "list(d.values())"
      ]
    },
    {
      "cell_type": "markdown",
      "source": [
        "key를 이용해서 value를 구할 수 있다."
      ],
      "metadata": {
        "id": "p5_Bjt7t68Ue"
      }
    },
    {
      "cell_type": "code",
      "execution_count": null,
      "metadata": {
        "id": "BxoH72I3Cs-C",
        "outputId": "3dbeafd0-3618-416f-e8b4-c0474832872d"
      },
      "outputs": [
        {
          "data": {
            "text/plain": [
              "{'a': 10, 'c': 10, 't': 3, 'z': -2}"
            ]
          },
          "execution_count": 27,
          "metadata": {},
          "output_type": "execute_result"
        }
      ],
      "source": [
        "d['a'] = 10\n",
        "d"
      ]
    },
    {
      "cell_type": "code",
      "execution_count": null,
      "metadata": {
        "id": "rYzbocX7Cs-C",
        "outputId": "f7ad9609-614b-4d92-8e1e-a6d6c74ce02c"
      },
      "outputs": [
        {
          "name": "stdout",
          "output_type": "stream",
          "text": [
            "a 10\n",
            "c 10\n",
            "t 3\n",
            "z -2\n"
          ]
        }
      ],
      "source": [
        "for k in d:\n",
        "    print(k,d[k])"
      ]
    },
    {
      "cell_type": "markdown",
      "source": [
        "key , value 쌍 얻기(items)"
      ],
      "metadata": {
        "id": "DR2YBBej7fkZ"
      }
    },
    {
      "cell_type": "code",
      "execution_count": null,
      "metadata": {
        "id": "tm4RtNKYCs-C",
        "outputId": "cf5a6fbe-941c-43cc-876b-d10bf0d3d539"
      },
      "outputs": [
        {
          "name": "stdout",
          "output_type": "stream",
          "text": [
            "a 10\n",
            "c 10\n",
            "t 3\n",
            "z -2\n"
          ]
        }
      ],
      "source": [
        "for k,v in d.items():\n",
        "    print(k,v)"
      ]
    },
    {
      "cell_type": "markdown",
      "source": [
        "key:value 쌍 모두 지우기(clear)"
      ],
      "metadata": {
        "id": "ZCYDFDVF7jqy"
      }
    },
    {
      "cell_type": "code",
      "source": [
        "d.clear()\n",
        "d"
      ],
      "metadata": {
        "colab": {
          "base_uri": "https://localhost:8080/"
        },
        "id": "tsp5eAXv7l99",
        "outputId": "10e974bb-829c-4d85-8bf6-16b61edd5ea5"
      },
      "execution_count": null,
      "outputs": [
        {
          "output_type": "execute_result",
          "data": {
            "text/plain": [
              "{}"
            ]
          },
          "metadata": {},
          "execution_count": 104
        }
      ]
    },
    {
      "cell_type": "markdown",
      "source": [
        "key로 value 얻기(get)"
      ],
      "metadata": {
        "id": "GdRP7AT58M0F"
      }
    },
    {
      "cell_type": "code",
      "source": [
        "seoul = {'name':'JYD','phone':'01033339999','birth':'0308'}"
      ],
      "metadata": {
        "id": "Z1_ISejj8DKU"
      },
      "execution_count": null,
      "outputs": []
    },
    {
      "cell_type": "code",
      "source": [
        "seoul.get('name')"
      ],
      "metadata": {
        "colab": {
          "base_uri": "https://localhost:8080/",
          "height": 35
        },
        "id": "wFZ0kz8F8HbT",
        "outputId": "c38a8e4c-4805-46a3-be4c-4a3ad85ac81a"
      },
      "execution_count": null,
      "outputs": [
        {
          "output_type": "execute_result",
          "data": {
            "text/plain": [
              "'JYD'"
            ],
            "application/vnd.google.colaboratory.intrinsic+json": {
              "type": "string"
            }
          },
          "metadata": {},
          "execution_count": 108
        }
      ]
    },
    {
      "cell_type": "code",
      "source": [
        "seoul.get('phone')"
      ],
      "metadata": {
        "colab": {
          "base_uri": "https://localhost:8080/",
          "height": 35
        },
        "id": "JGEhA5g78RRG",
        "outputId": "02fae0e3-6c1a-4058-ebb3-8b8212834284"
      },
      "execution_count": null,
      "outputs": [
        {
          "output_type": "execute_result",
          "data": {
            "text/plain": [
              "'01033339999'"
            ],
            "application/vnd.google.colaboratory.intrinsic+json": {
              "type": "string"
            }
          },
          "metadata": {},
          "execution_count": 109
        }
      ]
    },
    {
      "cell_type": "markdown",
      "source": [
        "있는지 없는지 확인하는 방법"
      ],
      "metadata": {
        "id": "k6YuS7718hhb"
      }
    },
    {
      "cell_type": "code",
      "source": [
        "'name' in seoul"
      ],
      "metadata": {
        "colab": {
          "base_uri": "https://localhost:8080/"
        },
        "id": "uepf47xb8jEH",
        "outputId": "b5d006ab-ec90-43b7-b7e1-75de99abc269"
      },
      "execution_count": null,
      "outputs": [
        {
          "output_type": "execute_result",
          "data": {
            "text/plain": [
              "True"
            ]
          },
          "metadata": {},
          "execution_count": 110
        }
      ]
    },
    {
      "cell_type": "markdown",
      "source": [
        "한가지 주의해야할 사항은 key에 리스트는 쓸수 없고 튜플은 key로 쓸 수 있다."
      ],
      "metadata": {
        "id": "Y-NMLShl7VKM"
      }
    },
    {
      "cell_type": "markdown",
      "source": [
        "## 집합 자료형"
      ],
      "metadata": {
        "id": "tRa-USyt-Yq9"
      }
    },
    {
      "cell_type": "code",
      "source": [
        "s1 = set([1,2,3])"
      ],
      "metadata": {
        "id": "CeZu3BiG-a2a"
      },
      "execution_count": null,
      "outputs": []
    },
    {
      "cell_type": "code",
      "source": [
        "s2 = set(\"hello\")\n",
        "s2"
      ],
      "metadata": {
        "colab": {
          "base_uri": "https://localhost:8080/"
        },
        "id": "wDKNls0G-c-z",
        "outputId": "2e91e7c1-1f0f-464f-8cbf-6b78da470fb2"
      },
      "execution_count": null,
      "outputs": [
        {
          "output_type": "execute_result",
          "data": {
            "text/plain": [
              "{'e', 'h', 'l', 'o'}"
            ]
          },
          "metadata": {},
          "execution_count": 117
        }
      ]
    },
    {
      "cell_type": "markdown",
      "source": [
        "집합자료형의 특징으로는    \n",
        "1. 중복을 허용하지 않으며\n",
        "2. 순서가 없다."
      ],
      "metadata": {
        "id": "xlRIt4Ad-jK6"
      }
    },
    {
      "cell_type": "markdown",
      "source": [
        "set 자료형에 저장된 값을 인덱싱으로 접근하려면 다음과 같이 리스트나 튜플로 변환한 후 해야한다."
      ],
      "metadata": {
        "id": "7RZPShgj-vWv"
      }
    },
    {
      "cell_type": "code",
      "source": [
        "s1 = set([1,2,3])\n",
        "l1 = list(s1)\n",
        "l1"
      ],
      "metadata": {
        "colab": {
          "base_uri": "https://localhost:8080/"
        },
        "id": "PcE6zOe0-oo6",
        "outputId": "55af9473-9d9a-4700-c213-da7586da18e4"
      },
      "execution_count": null,
      "outputs": [
        {
          "output_type": "execute_result",
          "data": {
            "text/plain": [
              "[1, 2, 3]"
            ]
          },
          "metadata": {},
          "execution_count": 118
        }
      ]
    },
    {
      "cell_type": "code",
      "source": [
        "t1 = tuple(s1)\n",
        "t1\n",
        "t1[0]"
      ],
      "metadata": {
        "colab": {
          "base_uri": "https://localhost:8080/"
        },
        "id": "8XjxHnQB-3Bk",
        "outputId": "ff3e1ce5-24d6-4f8e-882e-53055a0dc7c0"
      },
      "execution_count": null,
      "outputs": [
        {
          "output_type": "execute_result",
          "data": {
            "text/plain": [
              "1"
            ]
          },
          "metadata": {},
          "execution_count": 119
        }
      ]
    },
    {
      "cell_type": "code",
      "source": [
        "s1 = set([1,2,3,4,5,6])\n",
        "s2 = set([4,5,6,7,8,9])"
      ],
      "metadata": {
        "id": "M7HCKMeu-9vK"
      },
      "execution_count": null,
      "outputs": []
    },
    {
      "cell_type": "code",
      "source": [
        "s1 & s2 # 교집합"
      ],
      "metadata": {
        "colab": {
          "base_uri": "https://localhost:8080/"
        },
        "id": "aj2FQ2vm_Ch0",
        "outputId": "93642389-4ea9-43f7-cda8-c9bf1940bd2c"
      },
      "execution_count": null,
      "outputs": [
        {
          "output_type": "execute_result",
          "data": {
            "text/plain": [
              "{4, 5, 6}"
            ]
          },
          "metadata": {},
          "execution_count": 121
        }
      ]
    },
    {
      "cell_type": "code",
      "source": [
        "s1.intersection(s2) # 교집합"
      ],
      "metadata": {
        "colab": {
          "base_uri": "https://localhost:8080/"
        },
        "id": "yIG-to8t_F_M",
        "outputId": "5184bc2e-e95e-40fe-ced1-500768adac94"
      },
      "execution_count": null,
      "outputs": [
        {
          "output_type": "execute_result",
          "data": {
            "text/plain": [
              "{4, 5, 6}"
            ]
          },
          "metadata": {},
          "execution_count": 122
        }
      ]
    },
    {
      "cell_type": "code",
      "source": [
        "s1|s2 # 합집합"
      ],
      "metadata": {
        "colab": {
          "base_uri": "https://localhost:8080/"
        },
        "id": "qSKWEbzB_Jqn",
        "outputId": "13815757-0d56-47f9-be95-21561bc17869"
      },
      "execution_count": null,
      "outputs": [
        {
          "output_type": "execute_result",
          "data": {
            "text/plain": [
              "{1, 2, 3, 4, 5, 6, 7, 8, 9}"
            ]
          },
          "metadata": {},
          "execution_count": 123
        }
      ]
    },
    {
      "cell_type": "code",
      "source": [
        "s1.union(s2)"
      ],
      "metadata": {
        "colab": {
          "base_uri": "https://localhost:8080/"
        },
        "id": "l7cl7XMG_L3E",
        "outputId": "5320ed5e-0863-4c0c-9b2a-c1775826a828"
      },
      "execution_count": null,
      "outputs": [
        {
          "output_type": "execute_result",
          "data": {
            "text/plain": [
              "{1, 2, 3, 4, 5, 6, 7, 8, 9}"
            ]
          },
          "metadata": {},
          "execution_count": 124
        }
      ]
    },
    {
      "cell_type": "code",
      "source": [
        "s1-s2\n",
        "s2-s1 # 차집합"
      ],
      "metadata": {
        "colab": {
          "base_uri": "https://localhost:8080/"
        },
        "id": "SvQm3OrV_OH6",
        "outputId": "b938a401-07cf-444b-b0c5-f1491ad1cd04"
      },
      "execution_count": null,
      "outputs": [
        {
          "output_type": "execute_result",
          "data": {
            "text/plain": [
              "{7, 8, 9}"
            ]
          },
          "metadata": {},
          "execution_count": 125
        }
      ]
    },
    {
      "cell_type": "code",
      "source": [
        "s1.difference(s2)\n",
        "s2.difference(s1)"
      ],
      "metadata": {
        "colab": {
          "base_uri": "https://localhost:8080/"
        },
        "id": "_GnW1vK7_RHT",
        "outputId": "b2f2c08b-ccbe-4b71-9bcf-ab26edd9573b"
      },
      "execution_count": null,
      "outputs": [
        {
          "output_type": "execute_result",
          "data": {
            "text/plain": [
              "{7, 8, 9}"
            ]
          },
          "metadata": {},
          "execution_count": 126
        }
      ]
    },
    {
      "cell_type": "markdown",
      "source": [
        "### 집합 자료형 관련 함수 "
      ],
      "metadata": {
        "id": "XFV8jKRx_U9a"
      }
    },
    {
      "cell_type": "markdown",
      "source": [
        "값 1개 추가하기(add)"
      ],
      "metadata": {
        "id": "zREvqLZ6_Z1_"
      }
    },
    {
      "cell_type": "code",
      "source": [
        "s1 = set([1,2,3])\n",
        "s1.add(4)\n",
        "s1"
      ],
      "metadata": {
        "colab": {
          "base_uri": "https://localhost:8080/"
        },
        "id": "215xsxO3_V5P",
        "outputId": "2d0702be-d227-410e-f1e6-67079537d254"
      },
      "execution_count": null,
      "outputs": [
        {
          "output_type": "execute_result",
          "data": {
            "text/plain": [
              "{1, 2, 3, 4}"
            ]
          },
          "metadata": {},
          "execution_count": 127
        }
      ]
    },
    {
      "cell_type": "markdown",
      "source": [
        "값 여러개 추가하기(update)"
      ],
      "metadata": {
        "id": "brVdBs2h_jCM"
      }
    },
    {
      "cell_type": "code",
      "source": [
        "s1 = set([1,2,3])\n",
        "s1.update([4,5,6])\n",
        "s1"
      ],
      "metadata": {
        "colab": {
          "base_uri": "https://localhost:8080/"
        },
        "id": "zzzuBjSB_fNi",
        "outputId": "a17a4542-1cf9-47a5-a9b9-46ddbf4ff93d"
      },
      "execution_count": null,
      "outputs": [
        {
          "output_type": "execute_result",
          "data": {
            "text/plain": [
              "{1, 2, 3, 4, 5, 6}"
            ]
          },
          "metadata": {},
          "execution_count": 128
        }
      ]
    },
    {
      "cell_type": "markdown",
      "source": [
        "특정 값 제거하기(remove)"
      ],
      "metadata": {
        "id": "r-nHhMQ__oEs"
      }
    },
    {
      "cell_type": "code",
      "source": [
        "s1 = set([1,2,3])\n",
        "s1.remove(2)\n",
        "s1"
      ],
      "metadata": {
        "colab": {
          "base_uri": "https://localhost:8080/"
        },
        "id": "488ks1d9_ks1",
        "outputId": "bf5b0465-81e3-431a-b210-179be93d63fb"
      },
      "execution_count": null,
      "outputs": [
        {
          "output_type": "execute_result",
          "data": {
            "text/plain": [
              "{1, 3}"
            ]
          },
          "metadata": {},
          "execution_count": 130
        }
      ]
    },
    {
      "cell_type": "markdown",
      "metadata": {
        "id": "CRd_0SLLCs-C"
      },
      "source": [
        "##  제어문"
      ]
    },
    {
      "cell_type": "markdown",
      "metadata": {
        "id": "7A4y-NUzCs-D"
      },
      "source": [
        "### for loop"
      ]
    },
    {
      "cell_type": "markdown",
      "metadata": {
        "id": "LDox983TCs-D"
      },
      "source": [
        "for loop 는 다음과 같이 반복하여 작업을 수행하며 `range`함수를 이용하면 iterable 객체를 생성할 수 있다.\n",
        "\n",
        "iterable 객체는 객체안의 원소들을 순서대로 뽑아낼 수 있는 것을 말한다.  \n",
        "\n",
        "range(시작 숫자,끝 숫자) -> 끝 숫자는 포함되지 않는다."
      ]
    },
    {
      "cell_type": "code",
      "execution_count": null,
      "metadata": {
        "id": "qH-t2xaGCs-D",
        "outputId": "6b1cf3e8-6aba-48ae-dbf9-c24b4250656f"
      },
      "outputs": [
        {
          "name": "stdout",
          "output_type": "stream",
          "text": [
            "1\n",
            "2\n",
            "3\n",
            "4\n",
            "5\n",
            "6\n",
            "7\n",
            "8\n",
            "9\n"
          ]
        }
      ],
      "source": [
        "for i in range(1,10):\n",
        "    print(i)"
      ]
    },
    {
      "cell_type": "code",
      "execution_count": null,
      "metadata": {
        "id": "g7fc6hlNCs-D",
        "outputId": "0e0635d2-30e5-419d-d5c9-d3e08119b328"
      },
      "outputs": [
        {
          "name": "stdout",
          "output_type": "stream",
          "text": [
            "1\n",
            "3\n",
            "5\n",
            "7\n",
            "9\n"
          ]
        }
      ],
      "source": [
        "for i in range(1,10,2):  # 증가분이 1이 아닌 2로 지정 \n",
        "    print(i)"
      ]
    },
    {
      "cell_type": "code",
      "execution_count": null,
      "metadata": {
        "id": "2Ka5qviECs-D",
        "outputId": "46da114d-804f-401b-a929-8417e2222e33"
      },
      "outputs": [
        {
          "name": "stdout",
          "output_type": "stream",
          "text": [
            "1\n",
            "2\n",
            "3\n",
            "4\n"
          ]
        }
      ],
      "source": [
        "myiter = [1, 2, 3, 4]\n",
        "for i  in myiter:\n",
        "    print(i)"
      ]
    },
    {
      "cell_type": "markdown",
      "metadata": {
        "id": "uTFBDSL2Cs-D"
      },
      "source": [
        "두 개의 다른 iterable에서 서로 대응하는 원소를 묶어서 iterable을 만들어 주는 함수가 `zip` 이다. "
      ]
    },
    {
      "cell_type": "code",
      "execution_count": null,
      "metadata": {
        "id": "GkmwODpVCs-D",
        "outputId": "ae5d62d1-3c69-451f-b1e9-613769cad8a5"
      },
      "outputs": [
        {
          "name": "stdout",
          "output_type": "stream",
          "text": [
            "(1, 'a')\n",
            "(2, 'b')\n",
            "(3, 'c')\n"
          ]
        }
      ],
      "source": [
        "for i in zip([1,2,3],['a','b','c']):\n",
        "        print(i)"
      ]
    },
    {
      "cell_type": "code",
      "execution_count": null,
      "metadata": {
        "id": "1C3VrPQgCs-D",
        "outputId": "a413677a-cd5f-409a-9c7b-3f13d6f0a247"
      },
      "outputs": [
        {
          "name": "stdout",
          "output_type": "stream",
          "text": [
            "1 a\n",
            "2 b\n",
            "3 c\n"
          ]
        }
      ],
      "source": [
        "for i,j in zip([1,2,3],['a','b','c']):\n",
        "        print(i,j)"
      ]
    },
    {
      "cell_type": "markdown",
      "metadata": {
        "id": "-bVGIuV0Cs-D"
      },
      "source": [
        "함수 `enumerate`는 iterable의 원소들을 그 순서를 함께 생성해 준다. "
      ]
    },
    {
      "cell_type": "code",
      "execution_count": null,
      "metadata": {
        "id": "yAafJ1wsCs-E",
        "outputId": "bf68cc1d-c6c0-4644-b6ff-d67f777979d2"
      },
      "outputs": [
        {
          "name": "stdout",
          "output_type": "stream",
          "text": [
            "0 1\n",
            "1 2\n",
            "2 3\n",
            "3 4\n",
            "4 5\n",
            "5 6\n",
            "6 7\n",
            "7 8\n",
            "8 9\n"
          ]
        }
      ],
      "source": [
        "for i,j in enumerate(range(1,10)):\n",
        "    print(i,j)"
      ]
    },
    {
      "cell_type": "markdown",
      "source": [
        "for와 range를 사용한 구구단(example)"
      ],
      "metadata": {
        "id": "5A2GnV-xzMRD"
      }
    },
    {
      "cell_type": "code",
      "source": [
        "for i in range(2,10):\n",
        "  for j in range(1,10):\n",
        "    print(i*j,end=\" \")\n",
        "  print('')\n",
        "  "
      ],
      "metadata": {
        "colab": {
          "base_uri": "https://localhost:8080/"
        },
        "id": "Dx1cwZCkzPq7",
        "outputId": "8a763bc0-9219-4693-a1fc-c68f46c241a3"
      },
      "execution_count": null,
      "outputs": [
        {
          "output_type": "stream",
          "name": "stdout",
          "text": [
            "2 4 6 8 10 12 14 16 18 \n",
            "3 6 9 12 15 18 21 24 27 \n",
            "4 8 12 16 20 24 28 32 36 \n",
            "5 10 15 20 25 30 35 40 45 \n",
            "6 12 18 24 30 36 42 48 54 \n",
            "7 14 21 28 35 42 49 56 63 \n",
            "8 16 24 32 40 48 56 64 72 \n",
            "9 18 27 36 45 54 63 72 81 \n"
          ]
        }
      ]
    },
    {
      "cell_type": "code",
      "source": [
        "result = [x * y for x in range(2,10)\n",
        "    for y in range(1,10)]\n",
        "print(result)"
      ],
      "metadata": {
        "colab": {
          "base_uri": "https://localhost:8080/"
        },
        "id": "2NwKtp8e0fhB",
        "outputId": "2b2daeb7-bebb-41cc-96da-6fc1d44dbaf0"
      },
      "execution_count": null,
      "outputs": [
        {
          "output_type": "stream",
          "name": "stdout",
          "text": [
            "[2, 4, 6, 8, 10, 12, 14, 16, 18, 3, 6, 9, 12, 15, 18, 21, 24, 27, 4, 8, 12, 16, 20, 24, 28, 32, 36, 5, 10, 15, 20, 25, 30, 35, 40, 45, 6, 12, 18, 24, 30, 36, 42, 48, 54, 7, 14, 21, 28, 35, 42, 49, 56, 63, 8, 16, 24, 32, 40, 48, 56, 64, 72, 9, 18, 27, 36, 45, 54, 63, 72, 81]\n"
          ]
        }
      ]
    },
    {
      "cell_type": "markdown",
      "source": [
        "리스트 내포 사용하기"
      ],
      "metadata": {
        "id": "H7XPk3Nnz6D4"
      }
    },
    {
      "cell_type": "code",
      "source": [
        "a = [1,2,3,4]\n",
        "result = []\n",
        "for num in a :\n",
        "    result.append(num*3)\n",
        "\n",
        "print(result)"
      ],
      "metadata": {
        "colab": {
          "base_uri": "https://localhost:8080/"
        },
        "id": "LwIb849jz7yD",
        "outputId": "9078e8c3-44be-48f5-d753-e1ac09a0d187"
      },
      "execution_count": null,
      "outputs": [
        {
          "output_type": "stream",
          "name": "stdout",
          "text": [
            "[3, 6, 9, 12]\n"
          ]
        }
      ]
    },
    {
      "cell_type": "markdown",
      "source": [
        "위 예시를 간단하게 표현하면"
      ],
      "metadata": {
        "id": "Twxv0sTa0E-R"
      }
    },
    {
      "cell_type": "code",
      "source": [
        "a = [1,2,3,4]\n",
        "result = [num * 3 for num in a]\n",
        "print(result)"
      ],
      "metadata": {
        "colab": {
          "base_uri": "https://localhost:8080/"
        },
        "id": "Mc3RSbek0H41",
        "outputId": "f6d38c13-8774-4e27-b5d7-3b15b17bea7d"
      },
      "execution_count": null,
      "outputs": [
        {
          "output_type": "stream",
          "name": "stdout",
          "text": [
            "[3, 6, 9, 12]\n"
          ]
        }
      ]
    },
    {
      "cell_type": "markdown",
      "source": [
        "다른 예시로 짝수에만 3을 곱하고 담고 싶다면 "
      ],
      "metadata": {
        "id": "5IyELa5O0SVj"
      }
    },
    {
      "cell_type": "code",
      "source": [
        "a = [1,2,3,4]\n",
        "result = [num * 3 for num in a if num % 2 == 0]\n",
        "print(result)"
      ],
      "metadata": {
        "colab": {
          "base_uri": "https://localhost:8080/"
        },
        "id": "w8VbGqeV0Uiz",
        "outputId": "c64947c1-774f-4cc7-d0e9-0f27657e52c2"
      },
      "execution_count": null,
      "outputs": [
        {
          "output_type": "stream",
          "name": "stdout",
          "text": [
            "[6, 12]\n"
          ]
        }
      ]
    },
    {
      "cell_type": "markdown",
      "metadata": {
        "id": "VyRHVcZbCs-E"
      },
      "source": [
        "### while"
      ]
    },
    {
      "cell_type": "markdown",
      "source": [
        "Example1"
      ],
      "metadata": {
        "id": "kgipNYMF1dvd"
      }
    },
    {
      "cell_type": "code",
      "execution_count": null,
      "metadata": {
        "id": "C5A3CwliCs-E",
        "outputId": "07db8a90-5f4f-419d-d5ac-5590399311f3"
      },
      "outputs": [
        {
          "name": "stdout",
          "output_type": "stream",
          "text": [
            "0\n",
            "1\n",
            "2\n",
            "3\n",
            "4\n"
          ]
        }
      ],
      "source": [
        "a=0\n",
        "while(a < 5):\n",
        "    print(a)\n",
        "    a+=1"
      ]
    },
    {
      "cell_type": "markdown",
      "source": [
        "Example2"
      ],
      "metadata": {
        "id": "tAaBBZzu1biU"
      }
    },
    {
      "cell_type": "code",
      "source": [
        "treehit = 0\n",
        "while treehit < 10 :\n",
        "  treehit = treehit + 1 \n",
        "  print(\"나무를 %d번 찍었습니다.\" % treehit)\n",
        "  if treehit ==10:\n",
        "    print(\"나무 넘어간다\")"
      ],
      "metadata": {
        "colab": {
          "base_uri": "https://localhost:8080/"
        },
        "id": "Mg79PEyX1LuN",
        "outputId": "25161d3f-7191-4e13-c57b-9c7cbd86a26a"
      },
      "execution_count": null,
      "outputs": [
        {
          "output_type": "stream",
          "name": "stdout",
          "text": [
            "나무를 1번 찍었습니다.\n",
            "나무를 2번 찍었습니다.\n",
            "나무를 3번 찍었습니다.\n",
            "나무를 4번 찍었습니다.\n",
            "나무를 5번 찍었습니다.\n",
            "나무를 6번 찍었습니다.\n",
            "나무를 7번 찍었습니다.\n",
            "나무를 8번 찍었습니다.\n",
            "나무를 9번 찍었습니다.\n",
            "나무를 10번 찍었습니다.\n",
            "나무 넘어간다\n"
          ]
        }
      ]
    },
    {
      "cell_type": "markdown",
      "metadata": {
        "id": "Wwqz0ZaYCs-E"
      },
      "source": [
        "### if else"
      ]
    },
    {
      "cell_type": "code",
      "execution_count": null,
      "metadata": {
        "id": "UYMTeT_cCs-E",
        "outputId": "9a895566-4b69-4a29-bdae-feca3fd51796"
      },
      "outputs": [
        {
          "name": "stdout",
          "output_type": "stream",
          "text": [
            "old\n"
          ]
        }
      ],
      "source": [
        "age=52\n",
        "if age > 50:\n",
        "  print('old')\n",
        "elif age < 50:\n",
        "  print('young')\n",
        "else:\n",
        "  print('???')"
      ]
    },
    {
      "cell_type": "markdown",
      "source": [
        "if문 같은 경우에는 if 조건문 + elif 조건문 + else 조건문 순서로 구조를 짜야한다."
      ],
      "metadata": {
        "id": "g5-s9HOK16yS"
      }
    },
    {
      "cell_type": "code",
      "source": [
        "pocket = ['paper','cellphone']\n",
        "card = True\n",
        "if 'money' in pocket : \n",
        "    print(\"택시를 타고 가라\")\n",
        "elif card : \n",
        "    print(\"택시를 타고 가라\")\n",
        "else : \n",
        "    print(\"걸어 가라\")\n",
        "    "
      ],
      "metadata": {
        "colab": {
          "base_uri": "https://localhost:8080/"
        },
        "id": "wa1DZM4R2DAS",
        "outputId": "ff2d8b29-88e4-4df8-e14e-7d17f2fbfe93"
      },
      "execution_count": null,
      "outputs": [
        {
          "output_type": "stream",
          "name": "stdout",
          "text": [
            "택시를 타고 가라\n"
          ]
        }
      ]
    },
    {
      "cell_type": "markdown",
      "metadata": {
        "id": "hpNzRG2tCs-E"
      },
      "source": [
        "## 함수"
      ]
    },
    {
      "cell_type": "markdown",
      "metadata": {
        "id": "Go6-kU0cCs-E"
      },
      "source": [
        "Python에서 함수(function)은 `def` 문으로 정의되고 함수의 이름과 인자를 정의한 다음 `:`으로 정의를 끝내준다.   \n",
        "함수의 결과를 출력할 경우 `return`문을 사용한다.\n",
        "\n",
        "```\n",
        "def  funcname(a,b,c):\n",
        "    .... function body\n",
        "    return result\n",
        "```    "
      ]
    },
    {
      "cell_type": "markdown",
      "source": [
        "일반적인 함수의 전형적인 예시"
      ],
      "metadata": {
        "id": "peuVE_tI4LpN"
      }
    },
    {
      "cell_type": "code",
      "execution_count": null,
      "metadata": {
        "id": "TTYwQnhhCs-E"
      },
      "outputs": [],
      "source": [
        "def  addtwo(a,b):\n",
        "    return a+b  "
      ]
    },
    {
      "cell_type": "markdown",
      "source": [
        "a , b 는 매개변수 "
      ],
      "metadata": {
        "id": "YsmW1Qw235-g"
      }
    },
    {
      "cell_type": "code",
      "execution_count": null,
      "metadata": {
        "id": "59O1nUhpCs-E",
        "outputId": "9559228d-75bc-4eb3-f7b5-16d2a76b4a05"
      },
      "outputs": [
        {
          "data": {
            "text/plain": [
              "3"
            ]
          },
          "execution_count": 75,
          "metadata": {},
          "output_type": "execute_result"
        }
      ],
      "source": [
        "addtwo(1, 2)"
      ]
    },
    {
      "cell_type": "code",
      "execution_count": null,
      "metadata": {
        "id": "XkZOQblfCs-E",
        "outputId": "e1295c4d-7596-4b85-f8f1-857c9da81ef7"
      },
      "outputs": [
        {
          "data": {
            "text/plain": [
              "4.141592653589793"
            ]
          },
          "execution_count": 76,
          "metadata": {},
          "output_type": "execute_result"
        }
      ],
      "source": [
        "addtwo(1, math.pi)"
      ]
    },
    {
      "cell_type": "code",
      "execution_count": null,
      "metadata": {
        "id": "znfFSMmDCs-F",
        "outputId": "4be0cc4b-f295-41fd-f813-2c8391300ac0"
      },
      "outputs": [
        {
          "data": {
            "text/plain": [
              "'ab'"
            ]
          },
          "execution_count": 77,
          "metadata": {},
          "output_type": "execute_result"
        }
      ],
      "source": [
        "addtwo('a', 'b')"
      ]
    },
    {
      "cell_type": "code",
      "execution_count": null,
      "metadata": {
        "id": "wSgphD7rCs-F",
        "outputId": "b9ca4d40-4a11-4e3b-90dc-e017e892e81f"
      },
      "outputs": [
        {
          "ename": "TypeError",
          "evalue": "can only concatenate str (not \"int\") to str",
          "output_type": "error",
          "traceback": [
            "\u001b[0;31m---------------------------------------------------------------------------\u001b[0m",
            "\u001b[0;31mTypeError\u001b[0m                                 Traceback (most recent call last)",
            "\u001b[0;32m<ipython-input-78-29b385a74d89>\u001b[0m in \u001b[0;36m<module>\u001b[0;34m\u001b[0m\n\u001b[0;32m----> 1\u001b[0;31m \u001b[0maddtwo\u001b[0m\u001b[0;34m(\u001b[0m\u001b[0;34m'a'\u001b[0m\u001b[0;34m,\u001b[0m \u001b[0;36m100\u001b[0m\u001b[0;34m)\u001b[0m\u001b[0;34m\u001b[0m\u001b[0;34m\u001b[0m\u001b[0m\n\u001b[0m",
            "\u001b[0;32m<ipython-input-74-e115debcfc76>\u001b[0m in \u001b[0;36maddtwo\u001b[0;34m(a, b)\u001b[0m\n\u001b[1;32m      1\u001b[0m \u001b[0;32mdef\u001b[0m  \u001b[0maddtwo\u001b[0m\u001b[0;34m(\u001b[0m\u001b[0ma\u001b[0m\u001b[0;34m,\u001b[0m\u001b[0mb\u001b[0m\u001b[0;34m)\u001b[0m\u001b[0;34m:\u001b[0m\u001b[0;34m\u001b[0m\u001b[0;34m\u001b[0m\u001b[0m\n\u001b[0;32m----> 2\u001b[0;31m     \u001b[0;32mreturn\u001b[0m \u001b[0ma\u001b[0m\u001b[0;34m+\u001b[0m\u001b[0mb\u001b[0m\u001b[0;34m\u001b[0m\u001b[0;34m\u001b[0m\u001b[0m\n\u001b[0m",
            "\u001b[0;31mTypeError\u001b[0m: can only concatenate str (not \"int\") to str"
          ]
        }
      ],
      "source": [
        "addtwo('a', 100)"
      ]
    },
    {
      "cell_type": "markdown",
      "metadata": {
        "id": "CyFIaAcMCs-F"
      },
      "source": [
        "### local 변수와 scope"
      ]
    },
    {
      "cell_type": "markdown",
      "source": [
        "변수에는 스코프라는게 있다.\n",
        "쉽게 말해 스코프라는 접근가능한 영역이 존재한다.\n",
        "스코프 별 변수의 종류에는 \n",
        "*   지역 변수 : 함수 내에 선언된 변수\n",
        " *   선언 된 함수 내에서만 접근 가능 로컬 변수라고도 함\n",
        " *   함수 내부가 변수의 스코프가 됨\n",
        "\n",
        "*   전역 변수 : 함수 외에 선언된 변수로 글로벌 변수라고도 함\n",
        " *  함수 관계없어 어디서든 접근 가능함\n",
        " *  함수 내부 외부가 변수의 스코프가 됨\n",
        "\n",
        "local 변수는 그 함수에서밖에 선언이 안된다 따라서 밑의 값을 보면 서로 다른 값이 나오는 것을 알 수 있다.  \n",
        "해결방법으로는 global 변수를 선언하게 된다면 서로 값이 같은 것을 확인할 수 있다."
      ],
      "metadata": {
        "id": "d4M8dR4V5Q0n"
      }
    },
    {
      "cell_type": "markdown",
      "source": [
        "example"
      ],
      "metadata": {
        "id": "eot8KXtP8QBq"
      }
    },
    {
      "cell_type": "code",
      "execution_count": null,
      "metadata": {
        "id": "FPEbY7B1Cs-F",
        "outputId": "4a523bad-6029-410f-a0a0-3472f86a576e"
      },
      "outputs": [
        {
          "name": "stdout",
          "output_type": "stream",
          "text": [
            "2\n"
          ]
        },
        {
          "data": {
            "text/plain": [
              "1"
            ]
          },
          "execution_count": 79,
          "metadata": {},
          "output_type": "execute_result"
        }
      ],
      "source": [
        "x=1\n",
        "def bar():\n",
        "  x=2  # it is local variable\n",
        "  print(x)\n",
        "\n",
        "bar()\n",
        "x"
      ]
    },
    {
      "cell_type": "code",
      "execution_count": null,
      "metadata": {
        "id": "vtDoSuluCs-F",
        "outputId": "c307f442-79ce-4e8f-c6e3-2a00f08c5855"
      },
      "outputs": [
        {
          "data": {
            "text/plain": [
              "15"
            ]
          },
          "execution_count": 80,
          "metadata": {},
          "output_type": "execute_result"
        }
      ],
      "source": [
        "x=1\n",
        "y=2\n",
        "\n",
        "def f():\n",
        "  x=2          # new local x \n",
        "  def g():\n",
        "    x=11      # another new local x is defined  \n",
        "              # so new x=11 but parent x is still 2\n",
        "    return x+y # y = 2 is global and return 11+2 (x+y)\n",
        "  return g()+x # # g()= 13 and x= 2 so return 15\n",
        "\n",
        "f()"
      ]
    },
    {
      "cell_type": "markdown",
      "metadata": {
        "id": "ljntsp99Cs-F"
      },
      "source": [
        "### keyword  인자"
      ]
    },
    {
      "cell_type": "markdown",
      "metadata": {
        "id": "U4WOOJy_Cs-F"
      },
      "source": [
        "Keyword  인자는 함수의 인자를 정의할 때 default 값을 지정해주고 함수를 부를 때 그 인자를 지정하지 않으면 default 값이 자동적으로 사용된다."
      ]
    },
    {
      "cell_type": "code",
      "execution_count": null,
      "metadata": {
        "id": "xoE4ypX3Cs-F"
      },
      "outputs": [],
      "source": [
        "def f1(a, b=1, c=2):\n",
        "    return a+b+c"
      ]
    },
    {
      "cell_type": "code",
      "execution_count": null,
      "metadata": {
        "id": "RFhfxtYrCs-G",
        "outputId": "ade29477-3af4-46a8-b7b7-f858656b6b7c"
      },
      "outputs": [
        {
          "data": {
            "text/plain": [
              "4"
            ]
          },
          "execution_count": 82,
          "metadata": {},
          "output_type": "execute_result"
        }
      ],
      "source": [
        "f1(1) "
      ]
    },
    {
      "cell_type": "code",
      "execution_count": null,
      "metadata": {
        "id": "JBpoCXy_Cs-G",
        "outputId": "e2901b15-1bf5-4fe5-d689-fa929a8230a5"
      },
      "outputs": [
        {
          "data": {
            "text/plain": [
              "6"
            ]
          },
          "execution_count": 83,
          "metadata": {},
          "output_type": "execute_result"
        }
      ],
      "source": [
        "f1(1,3) # b=3"
      ]
    },
    {
      "cell_type": "code",
      "execution_count": null,
      "metadata": {
        "id": "folx00N-Cs-G",
        "outputId": "60608845-9055-4b50-f54f-3bfe8df8379d"
      },
      "outputs": [
        {
          "data": {
            "text/plain": [
              "12"
            ]
          },
          "execution_count": 84,
          "metadata": {},
          "output_type": "execute_result"
        }
      ],
      "source": [
        "f1(1,c=10)"
      ]
    },
    {
      "cell_type": "markdown",
      "metadata": {
        "id": "1dfLGzGLCs-G"
      },
      "source": [
        "### lambda 함수 (anonymous 함수)"
      ]
    },
    {
      "cell_type": "code",
      "execution_count": null,
      "metadata": {
        "id": "2WTRK7RECs-G"
      },
      "outputs": [],
      "source": [
        "f = lambda x: x**3"
      ]
    },
    {
      "cell_type": "code",
      "execution_count": null,
      "metadata": {
        "id": "kecl3O5JCs-G",
        "outputId": "8f5c12e5-1c33-4060-ba96-27ece982e3c3"
      },
      "outputs": [
        {
          "data": {
            "text/plain": [
              "1000"
            ]
          },
          "execution_count": 86,
          "metadata": {},
          "output_type": "execute_result"
        }
      ],
      "source": [
        "f(10)"
      ]
    },
    {
      "cell_type": "markdown",
      "metadata": {
        "id": "biOXUsnDCs-G"
      },
      "source": [
        "lambda 함수는 결과값을 함수로 주는 경우 유용하게 사용된다.  \n",
        "또한 함수를 복잡하게 짜기 싫을 때 유용하게 사용된다."
      ]
    },
    {
      "cell_type": "code",
      "execution_count": null,
      "metadata": {
        "id": "XrIIn46KCs-H"
      },
      "outputs": [],
      "source": [
        "def make_incrementor(n):\n",
        "    return lambda x: x + n"
      ]
    },
    {
      "cell_type": "code",
      "execution_count": null,
      "metadata": {
        "id": "VDnbusfjCs-H",
        "outputId": "831960d1-0d84-4407-9bb2-bd8c6d6574b2"
      },
      "outputs": [
        {
          "data": {
            "text/plain": [
              "103"
            ]
          },
          "execution_count": 88,
          "metadata": {},
          "output_type": "execute_result"
        }
      ],
      "source": [
        "f100 = make_incrementor(100)\n",
        "f100(3)"
      ]
    },
    {
      "cell_type": "code",
      "execution_count": null,
      "metadata": {
        "id": "WMKUwuw_Cs-H",
        "outputId": "cac1faa1-46ff-4636-e783-2f5189d253df"
      },
      "outputs": [
        {
          "data": {
            "text/plain": [
              "203"
            ]
          },
          "execution_count": 89,
          "metadata": {},
          "output_type": "execute_result"
        }
      ],
      "source": [
        "f200 = make_incrementor(200)\n",
        "f200(3)"
      ]
    },
    {
      "cell_type": "markdown",
      "metadata": {
        "id": "bZf3rM1lCs-H"
      },
      "source": [
        "## 객체"
      ]
    },
    {
      "cell_type": "markdown",
      "metadata": {
        "id": "7_cNz7w5Cs-H"
      },
      "source": [
        "python에서 객체(object)는 다른 객체지향언어에서 사용되는 개념과 동일하다. \n",
        "\n",
        "각 객체는 정의되는 동시에 고유한 Identity를 가지며 함수`id`로 그 고유한 id 를 볼 수 있다."
      ]
    },
    {
      "cell_type": "code",
      "execution_count": null,
      "metadata": {
        "id": "eR9x5jQpCs-H",
        "outputId": "36ea9ab9-0ca3-4e28-ef0b-7e89c05db5c0"
      },
      "outputs": [
        {
          "data": {
            "text/plain": [
              "4516475392"
            ]
          },
          "execution_count": 90,
          "metadata": {},
          "output_type": "execute_result"
        }
      ],
      "source": [
        "x=100\n",
        "id(x)"
      ]
    },
    {
      "cell_type": "code",
      "execution_count": null,
      "metadata": {
        "id": "n40gOyzACs-H",
        "outputId": "ca6e4afb-fd65-4e16-c243-4e818a45329a"
      },
      "outputs": [
        {
          "data": {
            "text/plain": [
              "4571320064"
            ]
          },
          "execution_count": 91,
          "metadata": {},
          "output_type": "execute_result"
        }
      ],
      "source": [
        "x=3.2\n",
        "id(x)"
      ]
    },
    {
      "cell_type": "markdown",
      "metadata": {
        "id": "E-g3hMLpCs-H"
      },
      "source": [
        "객체의 속성(attribute)과 그 변환은 각 객체의 형식에 따른  method를 이용한다."
      ]
    },
    {
      "cell_type": "code",
      "execution_count": null,
      "metadata": {
        "id": "X5lJ6duZCs-H",
        "outputId": "89d06515-6101-4666-9acb-e666478bb945"
      },
      "outputs": [
        {
          "data": {
            "text/plain": [
              "0.0"
            ]
          },
          "execution_count": 92,
          "metadata": {},
          "output_type": "execute_result"
        }
      ],
      "source": [
        "x.imag"
      ]
    },
    {
      "cell_type": "code",
      "execution_count": null,
      "metadata": {
        "id": "fT8Plr3HCs-I",
        "outputId": "0fbfff89-b1d5-4858-d549-a0a9b4b89b41"
      },
      "outputs": [
        {
          "data": {
            "text/plain": [
              "3.2"
            ]
          },
          "execution_count": 93,
          "metadata": {},
          "output_type": "execute_result"
        }
      ],
      "source": [
        "x.real"
      ]
    },
    {
      "cell_type": "code",
      "execution_count": null,
      "metadata": {
        "id": "RIra7f0XCs-I",
        "outputId": "f7022377-6ce8-4879-e571-2b1773ce23ac"
      },
      "outputs": [
        {
          "data": {
            "text/plain": [
              "float"
            ]
          },
          "execution_count": 94,
          "metadata": {},
          "output_type": "execute_result"
        }
      ],
      "source": [
        "x.__class__"
      ]
    },
    {
      "cell_type": "code",
      "execution_count": null,
      "metadata": {
        "id": "vIIcgualCs-I",
        "outputId": "c64effda-053a-4611-f7ad-45ac2e0bbe88"
      },
      "outputs": [
        {
          "data": {
            "text/plain": [
              "['aa', 'b']"
            ]
          },
          "execution_count": 95,
          "metadata": {},
          "output_type": "execute_result"
        }
      ],
      "source": [
        "x = ['a', 'b']\n",
        "x.__setitem__(0, 'aa')  # Equivalent to x[0] = 'aa'\n",
        "x"
      ]
    },
    {
      "cell_type": "markdown",
      "metadata": {
        "id": "aQDEt_iHCs-I"
      },
      "source": [
        "### 사용자 정의 객체"
      ]
    },
    {
      "cell_type": "markdown",
      "metadata": {
        "id": "YS1rcXsLCs-I"
      },
      "source": [
        "객체는 위에서 본 것과 같이 python 언어에 의하여 정의된 int, float, tuple, list 등이 있지만 사용자가 정의할 수 있다.\n",
        "\n",
        "사용자가 정의하는 객체는 `class`문을 사용하며 정의한다.\n",
        "\n",
        "다음은 은행의 고객을 객체형식으로 정의한 문장이다. 은행의 고객은 자금을 은행에 저금할 수 있고(deposit) 인출할 수 있다(withdraw). 또한 저금한 총 금액보다 더 많은 예금은 인출할 수 없다.\n",
        "\n",
        "이러한 개념을  구현할 수 있는 객체 `Customer`를 아래와 같이 구현할 수 있다.\n",
        "\n",
        "나오는 두 예제는 [코드 출처](https://lectures.quantecon.org/py/python_oop.html#Defining-Your-Own-Classes)에 있는 코드를 변환한 것이다. "
      ]
    },
    {
      "cell_type": "code",
      "execution_count": null,
      "metadata": {
        "id": "1ULVS-TzCs-I"
      },
      "outputs": [],
      "source": [
        "class Customer:\n",
        "\n",
        "    def __init__(self, w):\n",
        "        \"새로운 고객이 w 원으로 구죄를 만든다\"\n",
        "        self.wealth = w\n",
        "\n",
        "    def deposit(self, y):\n",
        "        \"고객이 y 원을 예금한다\"\n",
        "        self.wealth += y\n",
        "\n",
        "    def withdraw(self, x):\n",
        "        \"고객이 x 원을 인출하는데 자금보다 많으면 인출이 안된다.\"\n",
        "        new_wealth = self.wealth - x\n",
        "        if new_wealth < 0:\n",
        "            print(\"예금이 부족합니다.\")\n",
        "        else:\n",
        "            self.wealth = new_wealth"
      ]
    },
    {
      "cell_type": "markdown",
      "metadata": {
        "id": "kkwxEY9bCs-J"
      },
      "source": [
        "이제 용희란 사람을 Customer로 정의하고 (초기 예금 100원) 여러 가지 method를 적용해 보자."
      ]
    },
    {
      "cell_type": "code",
      "execution_count": null,
      "metadata": {
        "id": "8OtGt4ziCs-J"
      },
      "outputs": [],
      "source": [
        "용희 = Customer(100)"
      ]
    },
    {
      "cell_type": "code",
      "execution_count": null,
      "metadata": {
        "id": "lqU42BR1Cs-J",
        "outputId": "6d556ac5-6ea9-4637-80e5-2be7ff25a318"
      },
      "outputs": [
        {
          "data": {
            "text/plain": [
              "100"
            ]
          },
          "execution_count": 98,
          "metadata": {},
          "output_type": "execute_result"
        }
      ],
      "source": [
        "용희.wealth"
      ]
    },
    {
      "cell_type": "code",
      "execution_count": null,
      "metadata": {
        "id": "LuZSdoO0Cs-J"
      },
      "outputs": [],
      "source": [
        "용희.deposit(200)"
      ]
    },
    {
      "cell_type": "code",
      "execution_count": null,
      "metadata": {
        "id": "i4iuJEcHCs-J",
        "outputId": "3b31cd44-12d4-4298-a588-780d2c8f161b"
      },
      "outputs": [
        {
          "data": {
            "text/plain": [
              "300"
            ]
          },
          "execution_count": 100,
          "metadata": {},
          "output_type": "execute_result"
        }
      ],
      "source": [
        "용희.wealth"
      ]
    },
    {
      "cell_type": "code",
      "execution_count": null,
      "metadata": {
        "id": "ioRmHHZOCs-J"
      },
      "outputs": [],
      "source": [
        "용희.withdraw(150)"
      ]
    },
    {
      "cell_type": "code",
      "execution_count": null,
      "metadata": {
        "id": "CRraQ6NMCs-J",
        "outputId": "2874b0e5-aa3f-4781-fb8b-faed1dd8b71e"
      },
      "outputs": [
        {
          "data": {
            "text/plain": [
              "150"
            ]
          },
          "execution_count": 102,
          "metadata": {},
          "output_type": "execute_result"
        }
      ],
      "source": [
        "용희.wealth"
      ]
    },
    {
      "cell_type": "code",
      "execution_count": null,
      "metadata": {
        "id": "uwC_kr_zCs-J",
        "outputId": "3c472396-1e78-4cd1-a9f3-ec24473cd4c8"
      },
      "outputs": [
        {
          "name": "stdout",
          "output_type": "stream",
          "text": [
            "예금이 부족합니다.\n"
          ]
        }
      ],
      "source": [
        "용희.withdraw(200)"
      ]
    },
    {
      "cell_type": "code",
      "execution_count": null,
      "metadata": {
        "id": "g_Wc2KmDCs-J",
        "outputId": "9674b9cb-0985-411e-8a62-b5fd4eb06f15"
      },
      "outputs": [
        {
          "data": {
            "text/plain": [
              "__main__.Customer"
            ]
          },
          "execution_count": 104,
          "metadata": {},
          "output_type": "execute_result"
        }
      ],
      "source": [
        "type(용희)"
      ]
    },
    {
      "cell_type": "markdown",
      "metadata": {
        "id": "SN4oLX3sCs-J"
      },
      "source": [
        "아래에서는 `Polynomial` 즉 다항식에 대한 객체를 정의하고 여러 가지 연산들을 method로 구현한것이다.\n",
        "\n",
        "$$ f(x) = a_0 + a_1 x + a_2 x^2 + ... + a_n x^n $$\n",
        "\n",
        "다항식 객체 `Polynomial` 은 계수들로 정의된다. [코드 출처](https://lectures.quantecon.org/py/python_oop.html#Defining-Your-Own-Classes)\n"
      ]
    },
    {
      "cell_type": "code",
      "execution_count": null,
      "metadata": {
        "id": "1c-iQSTjCs-K"
      },
      "outputs": [],
      "source": [
        "class Polynomial:\n",
        "\n",
        "    def __init__(self, coefficients):\n",
        "        \"\"\"\n",
        "        Creates an instance of the Polynomial class representing\n",
        "\n",
        "            p(x) = a_0 x^0 + ... + a_n x^n,\n",
        "\n",
        "        where a_i = coefficients[i].\n",
        "        \"\"\"\n",
        "        self.coefficients = coefficients\n",
        "\n",
        "    def __call__(self, x):\n",
        "        \"Evaluate the polynomial at x.\"\n",
        "        y = 0\n",
        "        for i, a in enumerate(self.coefficients):\n",
        "            y += a * x**i\n",
        "        return y\n",
        "      \n",
        "    def __len__(self):\n",
        "        \"return the degree of polynomial\"\n",
        "        return len(self.coefficients)-1 \n",
        "    \n",
        "    def differentiate(self):\n",
        "        \"Reset self.coefficients to those of p' instead of p.\"\n",
        "        new_coefficients = []\n",
        "        for i, a in enumerate(self.coefficients):\n",
        "            new_coefficients.append(i * a)\n",
        "        # Remove the first element, which is zero\n",
        "        del new_coefficients[0]\n",
        "        # And reset coefficients data to new values\n",
        "        self.coefficients = new_coefficients\n",
        "        return new_coefficients"
      ]
    },
    {
      "cell_type": "code",
      "execution_count": null,
      "metadata": {
        "id": "RsNGfB9_Cs-K"
      },
      "outputs": [],
      "source": [
        "mypoly4 = Polynomial([1,2,3,4])"
      ]
    },
    {
      "cell_type": "code",
      "execution_count": null,
      "metadata": {
        "id": "BUhYtN9BCs-K",
        "outputId": "db1bbc88-1cd0-4934-92d8-b265ec91727a"
      },
      "outputs": [
        {
          "data": {
            "text/plain": [
              "<__main__.Polynomial at 0x1108b5b38>"
            ]
          },
          "execution_count": 107,
          "metadata": {},
          "output_type": "execute_result"
        }
      ],
      "source": [
        "mypoly4"
      ]
    },
    {
      "cell_type": "code",
      "execution_count": null,
      "metadata": {
        "id": "QhyU6yYeCs-K",
        "outputId": "9b9e2602-41b7-4075-ce06-18a1b28f06ec"
      },
      "outputs": [
        {
          "data": {
            "text/plain": [
              "[1, 2, 3, 4]"
            ]
          },
          "execution_count": 108,
          "metadata": {},
          "output_type": "execute_result"
        }
      ],
      "source": [
        "mypoly4.coefficients"
      ]
    },
    {
      "cell_type": "code",
      "execution_count": null,
      "metadata": {
        "id": "4OFZKfIzCs-K",
        "outputId": "1e2916e7-688b-4cf0-f4b0-f64d868ef4cf"
      },
      "outputs": [
        {
          "data": {
            "text/plain": [
              "10"
            ]
          },
          "execution_count": 109,
          "metadata": {},
          "output_type": "execute_result"
        }
      ],
      "source": [
        "mypoly4(1)"
      ]
    },
    {
      "cell_type": "code",
      "execution_count": null,
      "metadata": {
        "id": "S0i_p2KcCs-K",
        "outputId": "cd45e7d0-d7c7-4358-fb83-74d927e4d72e"
      },
      "outputs": [
        {
          "data": {
            "text/plain": [
              "49"
            ]
          },
          "execution_count": 110,
          "metadata": {},
          "output_type": "execute_result"
        }
      ],
      "source": [
        "mypoly4(2)"
      ]
    },
    {
      "cell_type": "code",
      "execution_count": null,
      "metadata": {
        "id": "TasyTFqiCs-K",
        "outputId": "e78c777e-7c7f-4fb5-cb99-44dbf88add96"
      },
      "outputs": [
        {
          "data": {
            "text/plain": [
              "[2, 6, 12]"
            ]
          },
          "execution_count": 111,
          "metadata": {},
          "output_type": "execute_result"
        }
      ],
      "source": [
        "mypoly4.differentiate()"
      ]
    },
    {
      "cell_type": "code",
      "execution_count": null,
      "metadata": {
        "id": "C_874RpJCs-K",
        "outputId": "57e7f754-9b67-4d9b-f42f-8ff7b6f2e5c5"
      },
      "outputs": [
        {
          "data": {
            "text/plain": [
              "[2, 6, 12]"
            ]
          },
          "execution_count": 112,
          "metadata": {},
          "output_type": "execute_result"
        }
      ],
      "source": [
        "mypoly4.coefficients"
      ]
    },
    {
      "cell_type": "code",
      "execution_count": null,
      "metadata": {
        "id": "t1AV4vqaCs-K",
        "outputId": "48433b08-caa4-4f28-e7d1-f1e2eb5a825c"
      },
      "outputs": [
        {
          "data": {
            "text/plain": [
              "20"
            ]
          },
          "execution_count": 113,
          "metadata": {},
          "output_type": "execute_result"
        }
      ],
      "source": [
        "mypoly4(1)"
      ]
    }
  ],
  "metadata": {
    "@webio": {
      "lastCommId": null,
      "lastKernelId": null
    },
    "kernelspec": {
      "display_name": "Python 3.9.13 64-bit",
      "language": "python",
      "name": "python3"
    },
    "language_info": {
      "codemirror_mode": {
        "name": "ipython",
        "version": 3
      },
      "file_extension": ".py",
      "mimetype": "text/x-python",
      "name": "python",
      "nbconvert_exporter": "python",
      "pygments_lexer": "ipython3",
      "version": "3.9.13"
    },
    "vscode": {
      "interpreter": {
        "hash": "aee8b7b246df8f9039afb4144a1f6fd8d2ca17a180786b69acc140d282b71a49"
      }
    },
    "colab": {
      "provenance": []
    }
  },
  "nbformat": 4,
  "nbformat_minor": 0
}